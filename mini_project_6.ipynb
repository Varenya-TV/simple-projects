{
 "cells": [
  {
   "cell_type": "code",
   "execution_count": 1,
   "metadata": {},
   "outputs": [],
   "source": [
    "import pandas as pd\n",
    "import seaborn as sns\n",
    "import matplotlib.pyplot as plt\n",
    "import numpy as np\n",
    "import plotly.express as px \n",
    "import os\n",
    "%matplotlib inline\n",
    "sns.set(font_scale = 2, style='whitegrid',rc={'figure.figsize':(20,7)})"
   ]
  },
  {
   "cell_type": "code",
   "execution_count": 12,
   "metadata": {},
   "outputs": [
    {
     "data": {
      "text/plain": [
       "'/home/jupyter-t-varenichenko-22/My practice/Lesson_6'"
      ]
     },
     "execution_count": 12,
     "metadata": {},
     "output_type": "execute_result"
    }
   ],
   "source": [
    "os.getcwd()"
   ]
  },
  {
   "cell_type": "code",
   "execution_count": 2,
   "metadata": {},
   "outputs": [],
   "source": [
    "ads_data = pd.read_csv('/home/jupyter-t-varenichenko-22/My practice/Lesson_6/For mini project/ads_data.zip')"
   ]
  },
  {
   "cell_type": "code",
   "execution_count": 16,
   "metadata": {},
   "outputs": [
    {
     "data": {
      "text/plain": [
       "(1000000, 11)"
      ]
     },
     "execution_count": 16,
     "metadata": {},
     "output_type": "execute_result"
    }
   ],
   "source": [
    "ads_data.shape"
   ]
  },
  {
   "cell_type": "code",
   "execution_count": 17,
   "metadata": {},
   "outputs": [
    {
     "data": {
      "text/html": [
       "<div>\n",
       "<style scoped>\n",
       "    .dataframe tbody tr th:only-of-type {\n",
       "        vertical-align: middle;\n",
       "    }\n",
       "\n",
       "    .dataframe tbody tr th {\n",
       "        vertical-align: top;\n",
       "    }\n",
       "\n",
       "    .dataframe thead th {\n",
       "        text-align: right;\n",
       "    }\n",
       "</style>\n",
       "<table border=\"1\" class=\"dataframe\">\n",
       "  <thead>\n",
       "    <tr style=\"text-align: right;\">\n",
       "      <th></th>\n",
       "      <th>date</th>\n",
       "      <th>time</th>\n",
       "      <th>event</th>\n",
       "      <th>platform</th>\n",
       "      <th>ad_id</th>\n",
       "      <th>client_union_id</th>\n",
       "      <th>campaign_union_id</th>\n",
       "      <th>ad_cost_type</th>\n",
       "      <th>ad_cost</th>\n",
       "      <th>has_video</th>\n",
       "      <th>target_audience_count</th>\n",
       "    </tr>\n",
       "  </thead>\n",
       "  <tbody>\n",
       "    <tr>\n",
       "      <th>0</th>\n",
       "      <td>2019-04-01</td>\n",
       "      <td>2019-04-01 00:00:48</td>\n",
       "      <td>view</td>\n",
       "      <td>android</td>\n",
       "      <td>45061</td>\n",
       "      <td>34734</td>\n",
       "      <td>45061</td>\n",
       "      <td>CPM</td>\n",
       "      <td>200.6</td>\n",
       "      <td>0</td>\n",
       "      <td>1955269</td>\n",
       "    </tr>\n",
       "    <tr>\n",
       "      <th>1</th>\n",
       "      <td>2019-04-01</td>\n",
       "      <td>2019-04-01 00:00:48</td>\n",
       "      <td>view</td>\n",
       "      <td>web</td>\n",
       "      <td>121288</td>\n",
       "      <td>121288</td>\n",
       "      <td>121288</td>\n",
       "      <td>CPM</td>\n",
       "      <td>187.4</td>\n",
       "      <td>0</td>\n",
       "      <td>232011</td>\n",
       "    </tr>\n",
       "    <tr>\n",
       "      <th>2</th>\n",
       "      <td>2019-04-01</td>\n",
       "      <td>2019-04-01 00:01:03</td>\n",
       "      <td>view</td>\n",
       "      <td>android</td>\n",
       "      <td>102737</td>\n",
       "      <td>102535</td>\n",
       "      <td>102564</td>\n",
       "      <td>CPC</td>\n",
       "      <td>60.7</td>\n",
       "      <td>0</td>\n",
       "      <td>4410</td>\n",
       "    </tr>\n",
       "    <tr>\n",
       "      <th>3</th>\n",
       "      <td>2019-04-01</td>\n",
       "      <td>2019-04-01 00:01:03</td>\n",
       "      <td>view</td>\n",
       "      <td>android</td>\n",
       "      <td>107564</td>\n",
       "      <td>106914</td>\n",
       "      <td>107564</td>\n",
       "      <td>CPM</td>\n",
       "      <td>217.3</td>\n",
       "      <td>0</td>\n",
       "      <td>62711</td>\n",
       "    </tr>\n",
       "    <tr>\n",
       "      <th>4</th>\n",
       "      <td>2019-04-01</td>\n",
       "      <td>2019-04-01 00:01:09</td>\n",
       "      <td>view</td>\n",
       "      <td>android</td>\n",
       "      <td>4922</td>\n",
       "      <td>37</td>\n",
       "      <td>4400</td>\n",
       "      <td>CPC</td>\n",
       "      <td>60.1</td>\n",
       "      <td>0</td>\n",
       "      <td>1183501</td>\n",
       "    </tr>\n",
       "  </tbody>\n",
       "</table>\n",
       "</div>"
      ],
      "text/plain": [
       "         date                 time event platform   ad_id  client_union_id  \\\n",
       "0  2019-04-01  2019-04-01 00:00:48  view  android   45061            34734   \n",
       "1  2019-04-01  2019-04-01 00:00:48  view      web  121288           121288   \n",
       "2  2019-04-01  2019-04-01 00:01:03  view  android  102737           102535   \n",
       "3  2019-04-01  2019-04-01 00:01:03  view  android  107564           106914   \n",
       "4  2019-04-01  2019-04-01 00:01:09  view  android    4922               37   \n",
       "\n",
       "   campaign_union_id ad_cost_type  ad_cost  has_video  target_audience_count  \n",
       "0              45061          CPM    200.6          0                1955269  \n",
       "1             121288          CPM    187.4          0                 232011  \n",
       "2             102564          CPC     60.7          0                   4410  \n",
       "3             107564          CPM    217.3          0                  62711  \n",
       "4               4400          CPC     60.1          0                1183501  "
      ]
     },
     "execution_count": 17,
     "metadata": {},
     "output_type": "execute_result"
    }
   ],
   "source": [
    "ads_data.head(5)"
   ]
  },
  {
   "cell_type": "markdown",
   "metadata": {},
   "source": [
    "Для начала посчитаем среднее количество разных рекламных событий (показы и клики) по объявлениям"
   ]
  },
  {
   "cell_type": "code",
   "execution_count": 40,
   "metadata": {},
   "outputs": [
    {
     "data": {
      "text/html": [
       "<div>\n",
       "<style scoped>\n",
       "    .dataframe tbody tr th:only-of-type {\n",
       "        vertical-align: middle;\n",
       "    }\n",
       "\n",
       "    .dataframe tbody tr th {\n",
       "        vertical-align: top;\n",
       "    }\n",
       "\n",
       "    .dataframe thead th {\n",
       "        text-align: right;\n",
       "    }\n",
       "</style>\n",
       "<table border=\"1\" class=\"dataframe\">\n",
       "  <thead>\n",
       "    <tr style=\"text-align: right;\">\n",
       "      <th>event</th>\n",
       "      <th>ad_id</th>\n",
       "      <th>click</th>\n",
       "      <th>view</th>\n",
       "    </tr>\n",
       "  </thead>\n",
       "  <tbody>\n",
       "    <tr>\n",
       "      <th>0</th>\n",
       "      <td>2</td>\n",
       "      <td>1.0</td>\n",
       "      <td>101.0</td>\n",
       "    </tr>\n",
       "    <tr>\n",
       "      <th>1</th>\n",
       "      <td>3</td>\n",
       "      <td>3.0</td>\n",
       "      <td>184.0</td>\n",
       "    </tr>\n",
       "    <tr>\n",
       "      <th>2</th>\n",
       "      <td>1902</td>\n",
       "      <td>1.0</td>\n",
       "      <td>41.0</td>\n",
       "    </tr>\n",
       "    <tr>\n",
       "      <th>3</th>\n",
       "      <td>2064</td>\n",
       "      <td>NaN</td>\n",
       "      <td>35.0</td>\n",
       "    </tr>\n",
       "    <tr>\n",
       "      <th>4</th>\n",
       "      <td>2132</td>\n",
       "      <td>1.0</td>\n",
       "      <td>58.0</td>\n",
       "    </tr>\n",
       "    <tr>\n",
       "      <th>...</th>\n",
       "      <td>...</td>\n",
       "      <td>...</td>\n",
       "      <td>...</td>\n",
       "    </tr>\n",
       "    <tr>\n",
       "      <th>960</th>\n",
       "      <td>122004</td>\n",
       "      <td>4.0</td>\n",
       "      <td>100.0</td>\n",
       "    </tr>\n",
       "    <tr>\n",
       "      <th>961</th>\n",
       "      <td>122013</td>\n",
       "      <td>NaN</td>\n",
       "      <td>156.0</td>\n",
       "    </tr>\n",
       "    <tr>\n",
       "      <th>962</th>\n",
       "      <td>122023</td>\n",
       "      <td>NaN</td>\n",
       "      <td>68.0</td>\n",
       "    </tr>\n",
       "    <tr>\n",
       "      <th>963</th>\n",
       "      <td>122031</td>\n",
       "      <td>1.0</td>\n",
       "      <td>138.0</td>\n",
       "    </tr>\n",
       "    <tr>\n",
       "      <th>964</th>\n",
       "      <td>122078</td>\n",
       "      <td>NaN</td>\n",
       "      <td>42.0</td>\n",
       "    </tr>\n",
       "  </tbody>\n",
       "</table>\n",
       "<p>965 rows × 3 columns</p>\n",
       "</div>"
      ],
      "text/plain": [
       "event   ad_id  click   view\n",
       "0           2    1.0  101.0\n",
       "1           3    3.0  184.0\n",
       "2        1902    1.0   41.0\n",
       "3        2064    NaN   35.0\n",
       "4        2132    1.0   58.0\n",
       "..        ...    ...    ...\n",
       "960    122004    4.0  100.0\n",
       "961    122013    NaN  156.0\n",
       "962    122023    NaN   68.0\n",
       "963    122031    1.0  138.0\n",
       "964    122078    NaN   42.0\n",
       "\n",
       "[965 rows x 3 columns]"
      ]
     },
     "execution_count": 40,
     "metadata": {},
     "output_type": "execute_result"
    }
   ],
   "source": [
    "ads_data_1 = ads_data.groupby(['event','ad_id'], as_index = False) \\\n",
    "                     .agg({'time': 'count'})\\\n",
    "                     .pivot(index = 'ad_id', columns = 'event', values = 'time') \\\n",
    "                     .reset_index()\n",
    "\n",
    "ads_data_1 "
   ]
  },
  {
   "cell_type": "code",
   "execution_count": 42,
   "metadata": {},
   "outputs": [
    {
     "data": {
      "text/plain": [
       "event\n",
       "ad_id    57971.0\n",
       "click      113.0\n",
       "view       923.0\n",
       "dtype: float64"
      ]
     },
     "execution_count": 42,
     "metadata": {},
     "output_type": "execute_result"
    }
   ],
   "source": [
    "# для подсчёта среднего по объявлениям заполнили наны. Округлили ответы до целых чисел.\n",
    "ads_data_1.fillna(0).mean().round(0)"
   ]
  },
  {
   "cell_type": "markdown",
   "metadata": {},
   "source": [
    "Распределение показов объявлений"
   ]
  },
  {
   "cell_type": "code",
   "execution_count": 55,
   "metadata": {},
   "outputs": [],
   "source": [
    "ads_data_2 = ads_data.groupby(['event','ad_id'], as_index = False) \\\n",
    "                     .agg({'time': 'count'})\\\n",
    "                     .query(\"event == 'view'\")\\\n",
    "                     .time \n",
    "\n",
    "ads_ = np.log(ads_data_2) #доля объявлений с такими показами"
   ]
  },
  {
   "cell_type": "code",
   "execution_count": 60,
   "metadata": {},
   "outputs": [
    {
     "name": "stderr",
     "output_type": "stream",
     "text": [
      "/opt/tljh/user/lib/python3.7/site-packages/seaborn/distributions.py:2557: FutureWarning: `distplot` is a deprecated function and will be removed in a future version. Please adapt your code to use either `displot` (a figure-level function with similar flexibility) or `histplot` (an axes-level function for histograms).\n",
      "  warnings.warn(msg, FutureWarning)\n"
     ]
    },
    {
     "data": {
      "text/plain": [
       "<matplotlib.axes._subplots.AxesSubplot at 0x7f3d4e2ba9e8>"
      ]
     },
     "execution_count": 60,
     "metadata": {},
     "output_type": "execute_result"
    },
    {
     "data": {
      "image/png": "[encoded data removed]",
      "text/plain": [
       "<Figure size 1440x504 with 1 Axes>"
      ]
     },
     "metadata": {},
     "output_type": "display_data"
    }
   ],
   "source": [
    "sns.distplot(ads_)"
   ]
  },
  {
   "cell_type": "markdown",
   "metadata": {},
   "source": [
    "Найти среднее количество показов на 1 объявление (ad_id) по дням, не учитывая объявления, у которых не было показов"
   ]
  },
  {
   "cell_type": "code",
   "execution_count": 84,
   "metadata": {},
   "outputs": [],
   "source": [
    "by_date = ads_data.query(\"event == 'view'\") \\\n",
    "                  .groupby(['date', 'ad_id'], as_index = False) \\\n",
    "                  .agg({'ad_id' : 'count'}) \\                    # на этом этапе сгруппированно так, что идет один и тот же день подряд и кол-во раз\n",
    "                  .groupby('date', as_index = False) \\           # теперь сгруппировано по дням полностью\n",
    "                  .agg({'ad_id' : 'mean'}) \\                     \n",
    "                  .rename(columns = {'ad_id' : 'mean_norm'})\n",
    "\n",
    "# После этого посчитайте скользящее среднее по полученному результату с окном в 2 элемента.\n",
    "by_date['rolling_mean'] = by_date.rolling(window = 2).mean().round(0) "
   ]
  },
  {
   "cell_type": "code",
   "execution_count": 89,
   "metadata": {},
   "outputs": [
    {
     "data": {
      "text/html": [
       "<div>\n",
       "<style scoped>\n",
       "    .dataframe tbody tr th:only-of-type {\n",
       "        vertical-align: middle;\n",
       "    }\n",
       "\n",
       "    .dataframe tbody tr th {\n",
       "        vertical-align: top;\n",
       "    }\n",
       "\n",
       "    .dataframe thead th {\n",
       "        text-align: right;\n",
       "    }\n",
       "</style>\n",
       "<table border=\"1\" class=\"dataframe\">\n",
       "  <thead>\n",
       "    <tr style=\"text-align: right;\">\n",
       "      <th></th>\n",
       "      <th>date</th>\n",
       "      <th>mean_norm</th>\n",
       "      <th>rolling_mean</th>\n",
       "    </tr>\n",
       "  </thead>\n",
       "  <tbody>\n",
       "    <tr>\n",
       "      <th>0</th>\n",
       "      <td>2019-04-01</td>\n",
       "      <td>154.482270</td>\n",
       "      <td>NaN</td>\n",
       "    </tr>\n",
       "    <tr>\n",
       "      <th>1</th>\n",
       "      <td>2019-04-02</td>\n",
       "      <td>137.786982</td>\n",
       "      <td>146.0</td>\n",
       "    </tr>\n",
       "    <tr>\n",
       "      <th>2</th>\n",
       "      <td>2019-04-03</td>\n",
       "      <td>163.952778</td>\n",
       "      <td>151.0</td>\n",
       "    </tr>\n",
       "    <tr>\n",
       "      <th>3</th>\n",
       "      <td>2019-04-04</td>\n",
       "      <td>675.901720</td>\n",
       "      <td>420.0</td>\n",
       "    </tr>\n",
       "    <tr>\n",
       "      <th>4</th>\n",
       "      <td>2019-04-05</td>\n",
       "      <td>919.109677</td>\n",
       "      <td>798.0</td>\n",
       "    </tr>\n",
       "    <tr>\n",
       "      <th>5</th>\n",
       "      <td>2019-04-06</td>\n",
       "      <td>277.122727</td>\n",
       "      <td>598.0</td>\n",
       "    </tr>\n",
       "  </tbody>\n",
       "</table>\n",
       "</div>"
      ],
      "text/plain": [
       "         date   mean_norm  rolling_mean\n",
       "0  2019-04-01  154.482270           NaN\n",
       "1  2019-04-02  137.786982         146.0\n",
       "2  2019-04-03  163.952778         151.0\n",
       "3  2019-04-04  675.901720         420.0\n",
       "4  2019-04-05  919.109677         798.0\n",
       "5  2019-04-06  277.122727         598.0"
      ]
     },
     "execution_count": 89,
     "metadata": {},
     "output_type": "execute_result"
    }
   ],
   "source": [
    "by_date"
   ]
  },
  {
   "cell_type": "markdown",
   "metadata": {},
   "source": [
    "Посчитаем, в какой день наблюдается наибольшая разница по модулю между арифметическим средним и скользящим средним\n",
    "Дни, в которых скользящее среднее равно NaN, не учитываем.\n"
   ]
  },
  {
   "cell_type": "code",
   "execution_count": 91,
   "metadata": {},
   "outputs": [
    {
     "data": {
      "text/html": [
       "<div>\n",
       "<style scoped>\n",
       "    .dataframe tbody tr th:only-of-type {\n",
       "        vertical-align: middle;\n",
       "    }\n",
       "\n",
       "    .dataframe tbody tr th {\n",
       "        vertical-align: top;\n",
       "    }\n",
       "\n",
       "    .dataframe thead th {\n",
       "        text-align: right;\n",
       "    }\n",
       "</style>\n",
       "<table border=\"1\" class=\"dataframe\">\n",
       "  <thead>\n",
       "    <tr style=\"text-align: right;\">\n",
       "      <th></th>\n",
       "      <th>date</th>\n",
       "      <th>mean_norm</th>\n",
       "      <th>rolling_mean</th>\n",
       "      <th>modul</th>\n",
       "    </tr>\n",
       "  </thead>\n",
       "  <tbody>\n",
       "    <tr>\n",
       "      <th>0</th>\n",
       "      <td>2019-04-01</td>\n",
       "      <td>154.482270</td>\n",
       "      <td>NaN</td>\n",
       "      <td>NaN</td>\n",
       "    </tr>\n",
       "    <tr>\n",
       "      <th>1</th>\n",
       "      <td>2019-04-02</td>\n",
       "      <td>137.786982</td>\n",
       "      <td>146.0</td>\n",
       "      <td>8.213018</td>\n",
       "    </tr>\n",
       "    <tr>\n",
       "      <th>2</th>\n",
       "      <td>2019-04-03</td>\n",
       "      <td>163.952778</td>\n",
       "      <td>151.0</td>\n",
       "      <td>12.952778</td>\n",
       "    </tr>\n",
       "    <tr>\n",
       "      <th>3</th>\n",
       "      <td>2019-04-04</td>\n",
       "      <td>675.901720</td>\n",
       "      <td>420.0</td>\n",
       "      <td>255.901720</td>\n",
       "    </tr>\n",
       "    <tr>\n",
       "      <th>4</th>\n",
       "      <td>2019-04-05</td>\n",
       "      <td>919.109677</td>\n",
       "      <td>798.0</td>\n",
       "      <td>121.109677</td>\n",
       "    </tr>\n",
       "    <tr>\n",
       "      <th>5</th>\n",
       "      <td>2019-04-06</td>\n",
       "      <td>277.122727</td>\n",
       "      <td>598.0</td>\n",
       "      <td>320.877273</td>\n",
       "    </tr>\n",
       "  </tbody>\n",
       "</table>\n",
       "</div>"
      ],
      "text/plain": [
       "         date   mean_norm  rolling_mean       modul\n",
       "0  2019-04-01  154.482270           NaN         NaN\n",
       "1  2019-04-02  137.786982         146.0    8.213018\n",
       "2  2019-04-03  163.952778         151.0   12.952778\n",
       "3  2019-04-04  675.901720         420.0  255.901720\n",
       "4  2019-04-05  919.109677         798.0  121.109677\n",
       "5  2019-04-06  277.122727         598.0  320.877273"
      ]
     },
     "execution_count": 91,
     "metadata": {},
     "output_type": "execute_result"
    }
   ],
   "source": [
    "by_date['modul'] = abs(by_date['rolling_mean'] - by_date['mean_norm'])\n",
    "by_date"
   ]
  },
  {
   "cell_type": "code",
   "execution_count": 93,
   "metadata": {},
   "outputs": [
    {
     "data": {
      "text/plain": [
       "<matplotlib.axes._subplots.AxesSubplot at 0x7f3d4dc0b940>"
      ]
     },
     "execution_count": 93,
     "metadata": {},
     "output_type": "execute_result"
    },
    {
     "data": {
      "image/png": "[encoded data removed]",
      "text/plain": [
       "<Figure size 1440x504 with 1 Axes>"
      ]
     },
     "metadata": {},
     "output_type": "display_data"
    }
   ],
   "source": [
    "by_date.rolling_mean.plot()\n",
    "by_date.mean_norm.plot()"
   ]
  },
  {
   "cell_type": "code",
   "execution_count": 104,
   "metadata": {},
   "outputs": [
    {
     "data": {
      "text/html": [
       "<div>\n",
       "<style scoped>\n",
       "    .dataframe tbody tr th:only-of-type {\n",
       "        vertical-align: middle;\n",
       "    }\n",
       "\n",
       "    .dataframe tbody tr th {\n",
       "        vertical-align: top;\n",
       "    }\n",
       "\n",
       "    .dataframe thead th {\n",
       "        text-align: right;\n",
       "    }\n",
       "</style>\n",
       "<table border=\"1\" class=\"dataframe\">\n",
       "  <thead>\n",
       "    <tr style=\"text-align: right;\">\n",
       "      <th></th>\n",
       "      <th>date</th>\n",
       "      <th>client_union_id</th>\n",
       "      <th>community_id</th>\n",
       "      <th>create_date</th>\n",
       "    </tr>\n",
       "  </thead>\n",
       "  <tbody>\n",
       "    <tr>\n",
       "      <th>0</th>\n",
       "      <td>2020-05-07</td>\n",
       "      <td>1</td>\n",
       "      <td>-130371893</td>\n",
       "      <td>2018-12-24</td>\n",
       "    </tr>\n",
       "    <tr>\n",
       "      <th>1</th>\n",
       "      <td>2020-05-07</td>\n",
       "      <td>2</td>\n",
       "      <td>-130304626</td>\n",
       "      <td>2019-02-10</td>\n",
       "    </tr>\n",
       "  </tbody>\n",
       "</table>\n",
       "</div>"
      ],
      "text/plain": [
       "         date  client_union_id  community_id create_date\n",
       "0  2020-05-07                1    -130371893  2018-12-24\n",
       "1  2020-05-07                2    -130304626  2019-02-10"
      ]
     },
     "execution_count": 104,
     "metadata": {},
     "output_type": "execute_result"
    }
   ],
   "source": [
    "ads_clients = pd.read_csv('/home/jupyter-t-varenichenko-22/My practice/Lesson_6/For mini project/ads_clients_data.csv')\n",
    "ads_clients.head(2)"
   ]
  },
  {
   "cell_type": "code",
   "execution_count": 4,
   "metadata": {},
   "outputs": [
    {
     "data": {
      "text/plain": [
       "(1000000, 14)"
      ]
     },
     "execution_count": 4,
     "metadata": {},
     "output_type": "execute_result"
    }
   ],
   "source": [
    "full_ads_data = ads_data.merge(ads_clients, on = 'client_union_id')\n",
    "full_ads_data.shape"
   ]
  },
  {
   "cell_type": "markdown",
   "metadata": {},
   "source": [
    "Объединим данные рекламы с данными о рекламных клиентах \n",
    "и найдем среднее количество дней от даты создания рекламного клиента (create_date) \n",
    "и первым запуском рекламного объявления этим клиентом (date)."
   ]
  },
  {
   "cell_type": "code",
   "execution_count": 6,
   "metadata": {},
   "outputs": [
    {
     "data": {
      "text/plain": [
       "(1000000, 15)"
      ]
     },
     "execution_count": 6,
     "metadata": {},
     "output_type": "execute_result"
    }
   ],
   "source": [
    "# 1. сначала переведем data и create_date в формат дат\n",
    "full_ads_data['date_x'] = pd.to_datetime(full_ads_data['date_x'])\n",
    "full_ads_data['create_date'] = pd.to_datetime(full_ads_data['create_date'])\n",
    "\n",
    "# 2. создаем новую колонку с разницей создания клиента и первым запуском. Вычитаем из date_x так как позже произошло\n",
    "# можно было через модуль abs\n",
    "full_ads_data = full_ads_data.assign(difference = full_ads_data.date_x - full_ads_data.create_date)\n",
    "full_ads_data.shape             "
   ]
  },
  {
   "cell_type": "code",
   "execution_count": 103,
   "metadata": {},
   "outputs": [
    {
     "data": {
      "text/html": [
       "<div>\n",
       "<style scoped>\n",
       "    .dataframe tbody tr th:only-of-type {\n",
       "        vertical-align: middle;\n",
       "    }\n",
       "\n",
       "    .dataframe tbody tr th {\n",
       "        vertical-align: top;\n",
       "    }\n",
       "\n",
       "    .dataframe thead th {\n",
       "        text-align: right;\n",
       "    }\n",
       "</style>\n",
       "<table border=\"1\" class=\"dataframe\">\n",
       "  <thead>\n",
       "    <tr style=\"text-align: right;\">\n",
       "      <th></th>\n",
       "      <th>date_x</th>\n",
       "      <th>time</th>\n",
       "      <th>event</th>\n",
       "      <th>platform</th>\n",
       "      <th>ad_id</th>\n",
       "      <th>client_union_id</th>\n",
       "      <th>campaign_union_id</th>\n",
       "      <th>ad_cost_type</th>\n",
       "      <th>ad_cost</th>\n",
       "      <th>has_video</th>\n",
       "      <th>target_audience_count</th>\n",
       "      <th>date_y</th>\n",
       "      <th>community_id</th>\n",
       "      <th>create_date</th>\n",
       "      <th>difference</th>\n",
       "      <th>cut</th>\n",
       "      <th>to_first</th>\n",
       "      <th>less_365</th>\n",
       "    </tr>\n",
       "  </thead>\n",
       "  <tbody>\n",
       "    <tr>\n",
       "      <th>0</th>\n",
       "      <td>2019-04-01</td>\n",
       "      <td>2019-04-01 00:00:48</td>\n",
       "      <td>view</td>\n",
       "      <td>android</td>\n",
       "      <td>45061</td>\n",
       "      <td>34734</td>\n",
       "      <td>45061</td>\n",
       "      <td>CPM</td>\n",
       "      <td>200.6</td>\n",
       "      <td>0</td>\n",
       "      <td>1955269</td>\n",
       "      <td>2020-05-07</td>\n",
       "      <td>-130129582</td>\n",
       "      <td>2018-12-04</td>\n",
       "      <td>118 days</td>\n",
       "      <td>3 month</td>\n",
       "      <td>NaT</td>\n",
       "      <td>True</td>\n",
       "    </tr>\n",
       "    <tr>\n",
       "      <th>1</th>\n",
       "      <td>2019-04-01</td>\n",
       "      <td>2019-04-01 00:03:28</td>\n",
       "      <td>view</td>\n",
       "      <td>android</td>\n",
       "      <td>45061</td>\n",
       "      <td>34734</td>\n",
       "      <td>45061</td>\n",
       "      <td>CPM</td>\n",
       "      <td>200.6</td>\n",
       "      <td>0</td>\n",
       "      <td>1955269</td>\n",
       "      <td>2020-05-07</td>\n",
       "      <td>-130129582</td>\n",
       "      <td>2018-12-04</td>\n",
       "      <td>118 days</td>\n",
       "      <td>3 month</td>\n",
       "      <td>98 days</td>\n",
       "      <td>True</td>\n",
       "    </tr>\n",
       "  </tbody>\n",
       "</table>\n",
       "</div>"
      ],
      "text/plain": [
       "      date_x                 time event platform  ad_id  client_union_id  \\\n",
       "0 2019-04-01  2019-04-01 00:00:48  view  android  45061            34734   \n",
       "1 2019-04-01  2019-04-01 00:03:28  view  android  45061            34734   \n",
       "\n",
       "   campaign_union_id ad_cost_type  ad_cost  has_video  target_audience_count  \\\n",
       "0              45061          CPM    200.6          0                1955269   \n",
       "1              45061          CPM    200.6          0                1955269   \n",
       "\n",
       "       date_y  community_id create_date difference      cut to_first  less_365  \n",
       "0  2020-05-07    -130129582  2018-12-04   118 days  3 month      NaT      True  \n",
       "1  2020-05-07    -130129582  2018-12-04   118 days  3 month  98 days      True  "
      ]
     },
     "execution_count": 103,
     "metadata": {},
     "output_type": "execute_result"
    }
   ],
   "source": [
    "full_ads_data.head(2)"
   ]
  },
  {
   "cell_type": "markdown",
   "metadata": {},
   "source": [
    "Посмотрим минимум дней от создания до первого запуска"
   ]
  },
  {
   "cell_type": "code",
   "execution_count": 138,
   "metadata": {},
   "outputs": [
    {
     "data": {
      "text/plain": [
       "difference   124 days 09:04:43.532219570\n",
       "dtype: timedelta64[ns]"
      ]
     },
     "execution_count": 138,
     "metadata": {},
     "output_type": "execute_result"
    }
   ],
   "source": [
    "full_ads_data.groupby('client_union_id')\\\n",
    "             .agg({'difference' : 'min'}).mean()"
   ]
  },
  {
   "cell_type": "markdown",
   "metadata": {},
   "source": [
    "Поделим клиентов по промежуткам от создания рекламного кабинета до запуска первого рекламного объявления.\n",
    "Определим, сколько уникальных клиентов запустили свое первое объявление в первый месяц своего существования (от 0 до 30 дней)"
   ]
  },
  {
   "cell_type": "code",
   "execution_count": 53,
   "metadata": {},
   "outputs": [
    {
     "data": {
      "text/plain": [
       "90-180     396\n",
       "30-90      263\n",
       "180-365    168\n",
       "month       11\n",
       "Name: cut, dtype: int64"
      ]
     },
     "execution_count": 53,
     "metadata": {},
     "output_type": "execute_result"
    }
   ],
   "source": [
    "bins = pd.to_timedelta(['0d', '30d', '90d', '180d', '365d'])\n",
    "labels = ['month', '30-90', '90-180', '180-365']\n",
    "\n",
    "# так как в задании до первого запуска, надо смотреть на датафрейм из прошлого задания\n",
    "# тут пересохранила его в новый дф\n",
    "df = full_ads_data.groupby('client_union_id', as_index = False).agg({'difference' : 'min'})\n",
    "\n",
    "# дальше только разделить на подготовленные промежутки  и посчитать сколько раз встречались значения\n",
    "df['cut'] = pd.cut(df.difference, bins, labels = labels)\n",
    "df.cut.value_counts()\n"
   ]
  },
  {
   "cell_type": "markdown",
   "metadata": {},
   "source": [
    "Построим интерактивный барплот, на котором будут показаны категории с количеством уникальных клиентов в них "
   ]
  },
  {
   "cell_type": "code",
   "execution_count": 55,
   "metadata": {},
   "outputs": [
    {
     "data": {
      "application/vnd.plotly.v1+json": {
       "config": {
        "plotlyServerURL": "https://plot.ly"
       },
       "data": [
        {
         "alignmentgroup": "True",
         "hovertemplate": "cut=%{x}<br>count=%{y}<extra></extra>",
         "legendgroup": "",
         "marker": {
          "color": "#636efa"
         },
         "name": "",
         "offsetgroup": "",
         "orientation": "v",
         "showlegend": false,
         "textposition": "auto",
         "type": "bar",
         "x": [
          "90-180",
          "90-180",
          "30-90",
          "90-180",
          "30-90",
          "90-180",
          "90-180",
          "30-90",
          "90-180",
          "90-180",
          "90-180",
          "180-365",
          "180-365",
          "180-365",
          "30-90",
          "90-180",
          "90-180",
          "90-180",
          "30-90",
          "180-365",
          "30-90",
          "90-180",
          "90-180",
          "90-180",
          "30-90",
          "90-180",
          "90-180",
          "30-90",
          "30-90",
          "30-90",
          "90-180",
          "180-365",
          "30-90",
          "180-365",
          "30-90",
          "90-180",
          "90-180",
          "180-365",
          "30-90",
          "90-180",
          "90-180",
          "30-90",
          "180-365",
          "180-365",
          "90-180",
          "30-90",
          "90-180",
          "90-180",
          "90-180",
          "30-90",
          "30-90",
          "180-365",
          "90-180",
          "30-90",
          "30-90",
          "90-180",
          "90-180",
          "90-180",
          "30-90",
          "90-180",
          "30-90",
          "30-90",
          "90-180",
          "30-90",
          "30-90",
          "90-180",
          "90-180",
          "90-180",
          "30-90",
          "90-180",
          "180-365",
          "90-180",
          "180-365",
          "30-90",
          "90-180",
          "30-90",
          "30-90",
          "180-365",
          "90-180",
          "90-180",
          "90-180",
          "180-365",
          "30-90",
          "30-90",
          "90-180",
          "90-180",
          "180-365",
          "30-90",
          "90-180",
          "90-180",
          "90-180",
          "90-180",
          "90-180",
          "90-180",
          "90-180",
          "month",
          "90-180",
          "180-365",
          "180-365",
          "90-180",
          "30-90",
          "90-180",
          "30-90",
          "180-365",
          "90-180",
          "90-180",
          "90-180",
          "90-180",
          "90-180",
          "30-90",
          "30-90",
          "90-180",
          "180-365",
          "90-180",
          "30-90",
          "90-180",
          "180-365",
          "30-90",
          "90-180",
          "90-180",
          "30-90",
          "90-180",
          "30-90",
          "90-180",
          "30-90",
          "180-365",
          "180-365",
          "30-90",
          "180-365",
          "90-180",
          "90-180",
          "30-90",
          "180-365",
          "30-90",
          "90-180",
          "90-180",
          "90-180",
          "90-180",
          "30-90",
          "90-180",
          "180-365",
          "180-365",
          "30-90",
          "30-90",
          "90-180",
          "30-90",
          "90-180",
          "90-180",
          "90-180",
          "30-90",
          "30-90",
          "30-90",
          "30-90",
          "180-365",
          "90-180",
          "30-90",
          "90-180",
          "90-180",
          "90-180",
          "30-90",
          "30-90",
          "30-90",
          "90-180",
          "30-90",
          "month",
          "90-180",
          "90-180",
          "180-365",
          "30-90",
          "180-365",
          "30-90",
          "90-180",
          "90-180",
          "30-90",
          "30-90",
          "90-180",
          "90-180",
          "90-180",
          "180-365",
          "30-90",
          "30-90",
          "90-180",
          "180-365",
          "180-365",
          "90-180",
          "90-180",
          "30-90",
          "180-365",
          "180-365",
          "30-90",
          "180-365",
          "90-180",
          "90-180",
          "30-90",
          "180-365",
          "30-90",
          "month",
          "90-180",
          "90-180",
          "90-180",
          "90-180",
          "30-90",
          "180-365",
          "30-90",
          "30-90",
          "30-90",
          "30-90",
          "90-180",
          "30-90",
          "30-90",
          "30-90",
          "90-180",
          "90-180",
          "90-180",
          "90-180",
          "90-180",
          "30-90",
          "30-90",
          "90-180",
          "90-180",
          "180-365",
          "30-90",
          "90-180",
          "90-180",
          "90-180",
          "90-180",
          "90-180",
          "90-180",
          "90-180",
          "90-180",
          "90-180",
          "30-90",
          "180-365",
          "30-90",
          "90-180",
          "180-365",
          "180-365",
          "180-365",
          "180-365",
          "90-180",
          "30-90",
          "180-365",
          "180-365",
          "90-180",
          "30-90",
          "30-90",
          "90-180",
          "90-180",
          "90-180",
          "90-180",
          "90-180",
          "30-90",
          "30-90",
          "30-90",
          "180-365",
          "30-90",
          "90-180",
          "90-180",
          "90-180",
          "90-180",
          "90-180",
          "30-90",
          "90-180",
          "90-180",
          "90-180",
          "30-90",
          "30-90",
          "180-365",
          "90-180",
          "180-365",
          "30-90",
          "30-90",
          "180-365",
          "90-180",
          "30-90",
          "90-180",
          "30-90",
          "90-180",
          "90-180",
          "90-180",
          "90-180",
          "30-90",
          "90-180",
          "30-90",
          "90-180",
          "30-90",
          "90-180",
          "180-365",
          "90-180",
          "180-365",
          "30-90",
          "90-180",
          "90-180",
          "180-365",
          "90-180",
          "90-180",
          "90-180",
          "90-180",
          "90-180",
          "30-90",
          "180-365",
          "90-180",
          "90-180",
          "90-180",
          "90-180",
          "30-90",
          "180-365",
          "180-365",
          "180-365",
          "180-365",
          "180-365",
          "90-180",
          "30-90",
          "90-180",
          "90-180",
          "90-180",
          "30-90",
          "180-365",
          "30-90",
          "180-365",
          "90-180",
          "90-180",
          "30-90",
          "180-365",
          "90-180",
          "90-180",
          "30-90",
          "30-90",
          "90-180",
          "30-90",
          "90-180",
          "90-180",
          "90-180",
          "180-365",
          "30-90",
          "30-90",
          "90-180",
          "180-365",
          "180-365",
          "180-365",
          "180-365",
          "30-90",
          "180-365",
          "30-90",
          "90-180",
          "30-90",
          "90-180",
          "90-180",
          "90-180",
          "90-180",
          "180-365",
          "30-90",
          "30-90",
          "month",
          "90-180",
          "90-180",
          "90-180",
          "90-180",
          "90-180",
          "90-180",
          "180-365",
          "90-180",
          "180-365",
          "30-90",
          "90-180",
          "180-365",
          "30-90",
          "30-90",
          "30-90",
          "180-365",
          "90-180",
          "90-180",
          "90-180",
          "30-90",
          "180-365",
          "90-180",
          "90-180",
          "30-90",
          "180-365",
          "90-180",
          "30-90",
          "180-365",
          "180-365",
          "90-180",
          "180-365",
          "90-180",
          "90-180",
          "90-180",
          "90-180",
          "180-365",
          "180-365",
          "90-180",
          "30-90",
          "30-90",
          "30-90",
          "30-90",
          "180-365",
          "30-90",
          "180-365",
          "180-365",
          "month",
          "30-90",
          "180-365",
          "30-90",
          "90-180",
          "180-365",
          "180-365",
          "30-90",
          "90-180",
          "180-365",
          "180-365",
          "90-180",
          "90-180",
          "180-365",
          "90-180",
          "90-180",
          "180-365",
          "30-90",
          "180-365",
          "30-90",
          "180-365",
          "30-90",
          "90-180",
          "30-90",
          "90-180",
          "30-90",
          "180-365",
          "90-180",
          "30-90",
          "180-365",
          "90-180",
          "90-180",
          "90-180",
          "180-365",
          "90-180",
          "30-90",
          "30-90",
          "90-180",
          "30-90",
          "30-90",
          "90-180",
          "90-180",
          "30-90",
          "180-365",
          "30-90",
          "30-90",
          "30-90",
          "180-365",
          "90-180",
          "180-365",
          "180-365",
          "30-90",
          "30-90",
          "90-180",
          "180-365",
          "30-90",
          "180-365",
          "90-180",
          "180-365",
          "180-365",
          "30-90",
          "90-180",
          "90-180",
          "30-90",
          "90-180",
          "180-365",
          "30-90",
          "30-90",
          "30-90",
          "180-365",
          "90-180",
          "30-90",
          "180-365",
          "30-90",
          "90-180",
          "30-90",
          "30-90",
          "30-90",
          "180-365",
          "30-90",
          "180-365",
          "90-180",
          "90-180",
          "90-180",
          "90-180",
          "90-180",
          "180-365",
          "180-365",
          "90-180",
          "30-90",
          "90-180",
          "90-180",
          "30-90",
          "90-180",
          "90-180",
          "90-180",
          "90-180",
          "90-180",
          "90-180",
          "90-180",
          "180-365",
          "90-180",
          "90-180",
          "30-90",
          "30-90",
          "30-90",
          "90-180",
          "30-90",
          "180-365",
          "90-180",
          "30-90",
          "30-90",
          "180-365",
          "30-90",
          "90-180",
          "90-180",
          "90-180",
          "30-90",
          "180-365",
          "30-90",
          "month",
          "90-180",
          "90-180",
          "30-90",
          "180-365",
          "180-365",
          "90-180",
          "180-365",
          "30-90",
          "30-90",
          "30-90",
          "90-180",
          "180-365",
          "90-180",
          "90-180",
          "30-90",
          "90-180",
          "90-180",
          "30-90",
          "90-180",
          "180-365",
          "180-365",
          "180-365",
          "90-180",
          "180-365",
          "180-365",
          "90-180",
          "90-180",
          "30-90",
          "90-180",
          "30-90",
          "30-90",
          "90-180",
          "30-90",
          "90-180",
          "90-180",
          "180-365",
          "30-90",
          "30-90",
          "90-180",
          "90-180",
          "180-365",
          "90-180",
          "90-180",
          "30-90",
          "30-90",
          "180-365",
          "90-180",
          "90-180",
          "90-180",
          "90-180",
          "90-180",
          "90-180",
          "30-90",
          "180-365",
          "90-180",
          "90-180",
          "90-180",
          "30-90",
          "30-90",
          "90-180",
          "30-90",
          "90-180",
          "180-365",
          "90-180",
          "90-180",
          "180-365",
          "30-90",
          "30-90",
          "90-180",
          "90-180",
          "30-90",
          "90-180",
          "30-90",
          "30-90",
          "90-180",
          "30-90",
          "90-180",
          "90-180",
          "180-365",
          "180-365",
          "30-90",
          "90-180",
          "month",
          "180-365",
          "180-365",
          "90-180",
          "90-180",
          "30-90",
          "180-365",
          "90-180",
          "30-90",
          "90-180",
          "30-90",
          "90-180",
          "90-180",
          "180-365",
          "90-180",
          "30-90",
          "90-180",
          "30-90",
          "30-90",
          "30-90",
          "30-90",
          "30-90",
          "30-90",
          "30-90",
          "90-180",
          "90-180",
          "90-180",
          "90-180",
          "30-90",
          "30-90",
          "90-180",
          "90-180",
          "180-365",
          "90-180",
          "180-365",
          "90-180",
          "30-90",
          "90-180",
          "90-180",
          "90-180",
          "90-180",
          "90-180",
          "90-180",
          "30-90",
          "180-365",
          "90-180",
          "180-365",
          "180-365",
          "90-180",
          "180-365",
          "30-90",
          "90-180",
          "90-180",
          "90-180",
          "90-180",
          "30-90",
          "30-90",
          "90-180",
          "30-90",
          "90-180",
          "90-180",
          "90-180",
          "month",
          "90-180",
          "90-180",
          "90-180",
          "90-180",
          "90-180",
          "30-90",
          "180-365",
          "30-90",
          "30-90",
          "30-90",
          "90-180",
          "month",
          "90-180",
          "90-180",
          "30-90",
          "90-180",
          "30-90",
          "90-180",
          "30-90",
          "90-180",
          "30-90",
          "180-365",
          "30-90",
          "90-180",
          "30-90",
          "90-180",
          "30-90",
          "180-365",
          "90-180",
          "90-180",
          "30-90",
          "30-90",
          "30-90",
          "30-90",
          "90-180",
          "90-180",
          "90-180",
          "90-180",
          "30-90",
          "90-180",
          "180-365",
          "30-90",
          "30-90",
          "180-365",
          "90-180",
          "90-180",
          "180-365",
          "180-365",
          "90-180",
          "90-180",
          "90-180",
          "180-365",
          "30-90",
          "30-90",
          "90-180",
          "30-90",
          "30-90",
          "90-180",
          "180-365",
          "180-365",
          "90-180",
          "month",
          "90-180",
          "180-365",
          "180-365",
          "180-365",
          "180-365",
          "90-180",
          "180-365",
          "30-90",
          "90-180",
          "30-90",
          "180-365",
          "90-180",
          "90-180",
          "90-180",
          "30-90",
          "90-180",
          "30-90",
          "month",
          "180-365",
          "90-180",
          "90-180",
          "180-365",
          "90-180",
          "90-180",
          "30-90",
          "90-180",
          "180-365",
          "30-90",
          "90-180",
          "90-180",
          "30-90",
          "90-180",
          "30-90",
          "30-90",
          "180-365",
          "30-90",
          "180-365",
          "90-180",
          "30-90",
          "90-180",
          "90-180",
          "90-180",
          "30-90",
          "30-90",
          "90-180",
          "30-90",
          "180-365",
          "30-90",
          "90-180",
          "90-180",
          "90-180",
          "30-90",
          "30-90",
          "90-180",
          "90-180",
          "90-180",
          "90-180",
          "90-180",
          "90-180",
          "90-180",
          "90-180",
          "30-90",
          "30-90",
          "90-180",
          "90-180",
          "90-180",
          "90-180",
          "30-90",
          "90-180",
          "30-90",
          "30-90",
          "90-180",
          "180-365",
          "90-180",
          "180-365",
          "90-180",
          "90-180",
          "90-180",
          "90-180",
          "90-180",
          "90-180",
          "180-365",
          "90-180",
          "30-90",
          "90-180",
          "30-90",
          "90-180",
          "30-90",
          "90-180",
          "90-180",
          "30-90",
          "90-180",
          "90-180",
          "90-180",
          "90-180",
          "90-180",
          "90-180",
          "90-180",
          "90-180",
          "90-180",
          "180-365",
          "180-365",
          "180-365",
          "30-90",
          "30-90",
          "30-90",
          "90-180",
          "90-180",
          "90-180",
          "30-90"
         ],
         "xaxis": "x",
         "y": [
          1,
          1,
          1,
          1,
          1,
          1,
          1,
          1,
          1,
          1,
          1,
          1,
          1,
          1,
          1,
          1,
          1,
          1,
          1,
          1,
          1,
          1,
          1,
          1,
          1,
          1,
          1,
          1,
          1,
          1,
          1,
          1,
          1,
          1,
          1,
          1,
          1,
          1,
          1,
          1,
          1,
          1,
          1,
          1,
          1,
          1,
          1,
          1,
          1,
          1,
          1,
          1,
          1,
          1,
          1,
          1,
          1,
          1,
          1,
          1,
          1,
          1,
          1,
          1,
          1,
          1,
          1,
          1,
          1,
          1,
          1,
          1,
          1,
          1,
          1,
          1,
          1,
          1,
          1,
          1,
          1,
          1,
          1,
          1,
          1,
          1,
          1,
          1,
          1,
          1,
          1,
          1,
          1,
          1,
          1,
          1,
          1,
          1,
          1,
          1,
          1,
          1,
          1,
          1,
          1,
          1,
          1,
          1,
          1,
          1,
          1,
          1,
          1,
          1,
          1,
          1,
          1,
          1,
          1,
          1,
          1,
          1,
          1,
          1,
          1,
          1,
          1,
          1,
          1,
          1,
          1,
          1,
          1,
          1,
          1,
          1,
          1,
          1,
          1,
          1,
          1,
          1,
          1,
          1,
          1,
          1,
          1,
          1,
          1,
          1,
          1,
          1,
          1,
          1,
          1,
          1,
          1,
          1,
          1,
          1,
          1,
          1,
          1,
          1,
          1,
          1,
          1,
          1,
          1,
          1,
          1,
          1,
          1,
          1,
          1,
          1,
          1,
          1,
          1,
          1,
          1,
          1,
          1,
          1,
          1,
          1,
          1,
          1,
          1,
          1,
          1,
          1,
          1,
          1,
          1,
          1,
          1,
          1,
          1,
          1,
          1,
          1,
          1,
          1,
          1,
          1,
          1,
          1,
          1,
          1,
          1,
          1,
          1,
          1,
          1,
          1,
          1,
          1,
          1,
          1,
          1,
          1,
          1,
          1,
          1,
          1,
          1,
          1,
          1,
          1,
          1,
          1,
          1,
          1,
          1,
          1,
          1,
          1,
          1,
          1,
          1,
          1,
          1,
          1,
          1,
          1,
          1,
          1,
          1,
          1,
          1,
          1,
          1,
          1,
          1,
          1,
          1,
          1,
          1,
          1,
          1,
          1,
          1,
          1,
          1,
          1,
          1,
          1,
          1,
          1,
          1,
          1,
          1,
          1,
          1,
          1,
          1,
          1,
          1,
          1,
          1,
          1,
          1,
          1,
          1,
          1,
          1,
          1,
          1,
          1,
          1,
          1,
          1,
          1,
          1,
          1,
          1,
          1,
          1,
          1,
          1,
          1,
          1,
          1,
          1,
          1,
          1,
          1,
          1,
          1,
          1,
          1,
          1,
          1,
          1,
          1,
          1,
          1,
          1,
          1,
          1,
          1,
          1,
          1,
          1,
          1,
          1,
          1,
          1,
          1,
          1,
          1,
          1,
          1,
          1,
          1,
          1,
          1,
          1,
          1,
          1,
          1,
          1,
          1,
          1,
          1,
          1,
          1,
          1,
          1,
          1,
          1,
          1,
          1,
          1,
          1,
          1,
          1,
          1,
          1,
          1,
          1,
          1,
          1,
          1,
          1,
          1,
          1,
          1,
          1,
          1,
          1,
          1,
          1,
          1,
          1,
          1,
          1,
          1,
          1,
          1,
          1,
          1,
          1,
          1,
          1,
          1,
          1,
          1,
          1,
          1,
          1,
          1,
          1,
          1,
          1,
          1,
          1,
          1,
          1,
          1,
          1,
          1,
          1,
          1,
          1,
          1,
          1,
          1,
          1,
          1,
          1,
          1,
          1,
          1,
          1,
          1,
          1,
          1,
          1,
          1,
          1,
          1,
          1,
          1,
          1,
          1,
          1,
          1,
          1,
          1,
          1,
          1,
          1,
          1,
          1,
          1,
          1,
          1,
          1,
          1,
          1,
          1,
          1,
          1,
          1,
          1,
          1,
          1,
          1,
          1,
          1,
          1,
          1,
          1,
          1,
          1,
          1,
          1,
          1,
          1,
          1,
          1,
          1,
          1,
          1,
          1,
          1,
          1,
          1,
          1,
          1,
          1,
          1,
          1,
          1,
          1,
          1,
          1,
          1,
          1,
          1,
          1,
          1,
          1,
          1,
          1,
          1,
          1,
          1,
          1,
          1,
          1,
          1,
          1,
          1,
          1,
          1,
          1,
          1,
          1,
          1,
          1,
          1,
          1,
          1,
          1,
          1,
          1,
          1,
          1,
          1,
          1,
          1,
          1,
          1,
          1,
          1,
          1,
          1,
          1,
          1,
          1,
          1,
          1,
          1,
          1,
          1,
          1,
          1,
          1,
          1,
          1,
          1,
          1,
          1,
          1,
          1,
          1,
          1,
          1,
          1,
          1,
          1,
          1,
          1,
          1,
          1,
          1,
          1,
          1,
          1,
          1,
          1,
          1,
          1,
          1,
          1,
          1,
          1,
          1,
          1,
          1,
          1,
          1,
          1,
          1,
          1,
          1,
          1,
          1,
          1,
          1,
          1,
          1,
          1,
          1,
          1,
          1,
          1,
          1,
          1,
          1,
          1,
          1,
          1,
          1,
          1,
          1,
          1,
          1,
          1,
          1,
          1,
          1,
          1,
          1,
          1,
          1,
          1,
          1,
          1,
          1,
          1,
          1,
          1,
          1,
          1,
          1,
          1,
          1,
          1,
          1,
          1,
          1,
          1,
          1,
          1,
          1,
          1,
          1,
          1,
          1,
          1,
          1,
          1,
          1,
          1,
          1,
          1,
          1,
          1,
          1,
          1,
          1,
          1,
          1,
          1,
          1,
          1,
          1,
          1,
          1,
          1,
          1,
          1,
          1,
          1,
          1,
          1,
          1,
          1,
          1,
          1,
          1,
          1,
          1,
          1,
          1,
          1,
          1,
          1,
          1,
          1,
          1,
          1,
          1,
          1,
          1,
          1,
          1,
          1,
          1,
          1,
          1,
          1,
          1,
          1,
          1,
          1,
          1,
          1,
          1,
          1,
          1,
          1,
          1,
          1,
          1,
          1,
          1,
          1,
          1,
          1,
          1,
          1,
          1,
          1,
          1,
          1,
          1,
          1,
          1,
          1,
          1,
          1,
          1,
          1,
          1,
          1,
          1,
          1,
          1,
          1,
          1,
          1,
          1,
          1,
          1,
          1,
          1,
          1,
          1,
          1,
          1,
          1,
          1,
          1,
          1,
          1,
          1,
          1,
          1,
          1,
          1,
          1,
          1,
          1,
          1,
          1,
          1,
          1,
          1,
          1,
          1,
          1,
          1,
          1,
          1,
          1,
          1,
          1,
          1,
          1,
          1,
          1,
          1,
          1,
          1,
          1,
          1,
          1,
          1,
          1,
          1,
          1,
          1,
          1,
          1,
          1,
          1,
          1,
          1,
          1,
          1,
          1,
          1,
          1,
          1,
          1,
          1,
          1,
          1,
          1,
          1,
          1,
          1,
          1,
          1,
          1,
          1,
          1,
          1,
          1,
          1,
          1,
          1,
          1,
          1,
          1,
          1,
          1,
          1,
          1,
          1,
          1,
          1,
          1,
          1,
          1,
          1,
          1,
          1,
          1,
          1,
          1,
          1,
          1,
          1,
          1,
          1,
          1,
          1,
          1,
          1,
          1,
          1,
          1,
          1,
          1,
          1,
          1,
          1,
          1,
          1,
          1,
          1,
          1
         ],
         "yaxis": "y"
        }
       ],
       "layout": {
        "barmode": "relative",
        "legend": {
         "tracegroupgap": 0
        },
        "margin": {
         "t": 60
        },
        "template": {
         "data": {
          "bar": [
           {
            "error_x": {
             "color": "#2a3f5f"
            },
            "error_y": {
             "color": "#2a3f5f"
            },
            "marker": {
             "line": {
              "color": "#E5ECF6",
              "width": 0.5
             }
            },
            "type": "bar"
           }
          ],
          "barpolar": [
           {
            "marker": {
             "line": {
              "color": "#E5ECF6",
              "width": 0.5
             }
            },
            "type": "barpolar"
           }
          ],
          "carpet": [
           {
            "aaxis": {
             "endlinecolor": "#2a3f5f",
             "gridcolor": "white",
             "linecolor": "white",
             "minorgridcolor": "white",
             "startlinecolor": "#2a3f5f"
            },
            "baxis": {
             "endlinecolor": "#2a3f5f",
             "gridcolor": "white",
             "linecolor": "white",
             "minorgridcolor": "white",
             "startlinecolor": "#2a3f5f"
            },
            "type": "carpet"
           }
          ],
          "choropleth": [
           {
            "colorbar": {
             "outlinewidth": 0,
             "ticks": ""
            },
            "type": "choropleth"
           }
          ],
          "contour": [
           {
            "colorbar": {
             "outlinewidth": 0,
             "ticks": ""
            },
            "colorscale": [
             [
              0,
              "#0d0887"
             ],
             [
              0.1111111111111111,
              "#46039f"
             ],
             [
              0.2222222222222222,
              "#7201a8"
             ],
             [
              0.3333333333333333,
              "#9c179e"
             ],
             [
              0.4444444444444444,
              "#bd3786"
             ],
             [
              0.5555555555555556,
              "#d8576b"
             ],
             [
              0.6666666666666666,
              "#ed7953"
             ],
             [
              0.7777777777777778,
              "#fb9f3a"
             ],
             [
              0.8888888888888888,
              "#fdca26"
             ],
             [
              1,
              "#f0f921"
             ]
            ],
            "type": "contour"
           }
          ],
          "contourcarpet": [
           {
            "colorbar": {
             "outlinewidth": 0,
             "ticks": ""
            },
            "type": "contourcarpet"
           }
          ],
          "heatmap": [
           {
            "colorbar": {
             "outlinewidth": 0,
             "ticks": ""
            },
            "colorscale": [
             [
              0,
              "#0d0887"
             ],
             [
              0.1111111111111111,
              "#46039f"
             ],
             [
              0.2222222222222222,
              "#7201a8"
             ],
             [
              0.3333333333333333,
              "#9c179e"
             ],
             [
              0.4444444444444444,
              "#bd3786"
             ],
             [
              0.5555555555555556,
              "#d8576b"
             ],
             [
              0.6666666666666666,
              "#ed7953"
             ],
             [
              0.7777777777777778,
              "#fb9f3a"
             ],
             [
              0.8888888888888888,
              "#fdca26"
             ],
             [
              1,
              "#f0f921"
             ]
            ],
            "type": "heatmap"
           }
          ],
          "heatmapgl": [
           {
            "colorbar": {
             "outlinewidth": 0,
             "ticks": ""
            },
            "colorscale": [
             [
              0,
              "#0d0887"
             ],
             [
              0.1111111111111111,
              "#46039f"
             ],
             [
              0.2222222222222222,
              "#7201a8"
             ],
             [
              0.3333333333333333,
              "#9c179e"
             ],
             [
              0.4444444444444444,
              "#bd3786"
             ],
             [
              0.5555555555555556,
              "#d8576b"
             ],
             [
              0.6666666666666666,
              "#ed7953"
             ],
             [
              0.7777777777777778,
              "#fb9f3a"
             ],
             [
              0.8888888888888888,
              "#fdca26"
             ],
             [
              1,
              "#f0f921"
             ]
            ],
            "type": "heatmapgl"
           }
          ],
          "histogram": [
           {
            "marker": {
             "colorbar": {
              "outlinewidth": 0,
              "ticks": ""
             }
            },
            "type": "histogram"
           }
          ],
          "histogram2d": [
           {
            "colorbar": {
             "outlinewidth": 0,
             "ticks": ""
            },
            "colorscale": [
             [
              0,
              "#0d0887"
             ],
             [
              0.1111111111111111,
              "#46039f"
             ],
             [
              0.2222222222222222,
              "#7201a8"
             ],
             [
              0.3333333333333333,
              "#9c179e"
             ],
             [
              0.4444444444444444,
              "#bd3786"
             ],
             [
              0.5555555555555556,
              "#d8576b"
             ],
             [
              0.6666666666666666,
              "#ed7953"
             ],
             [
              0.7777777777777778,
              "#fb9f3a"
             ],
             [
              0.8888888888888888,
              "#fdca26"
             ],
             [
              1,
              "#f0f921"
             ]
            ],
            "type": "histogram2d"
           }
          ],
          "histogram2dcontour": [
           {
            "colorbar": {
             "outlinewidth": 0,
             "ticks": ""
            },
            "colorscale": [
             [
              0,
              "#0d0887"
             ],
             [
              0.1111111111111111,
              "#46039f"
             ],
             [
              0.2222222222222222,
              "#7201a8"
             ],
             [
              0.3333333333333333,
              "#9c179e"
             ],
             [
              0.4444444444444444,
              "#bd3786"
             ],
             [
              0.5555555555555556,
              "#d8576b"
             ],
             [
              0.6666666666666666,
              "#ed7953"
             ],
             [
              0.7777777777777778,
              "#fb9f3a"
             ],
             [
              0.8888888888888888,
              "#fdca26"
             ],
             [
              1,
              "#f0f921"
             ]
            ],
            "type": "histogram2dcontour"
           }
          ],
          "mesh3d": [
           {
            "colorbar": {
             "outlinewidth": 0,
             "ticks": ""
            },
            "type": "mesh3d"
           }
          ],
          "parcoords": [
           {
            "line": {
             "colorbar": {
              "outlinewidth": 0,
              "ticks": ""
             }
            },
            "type": "parcoords"
           }
          ],
          "pie": [
           {
            "automargin": true,
            "type": "pie"
           }
          ],
          "scatter": [
           {
            "marker": {
             "colorbar": {
              "outlinewidth": 0,
              "ticks": ""
             }
            },
            "type": "scatter"
           }
          ],
          "scatter3d": [
           {
            "line": {
             "colorbar": {
              "outlinewidth": 0,
              "ticks": ""
             }
            },
            "marker": {
             "colorbar": {
              "outlinewidth": 0,
              "ticks": ""
             }
            },
            "type": "scatter3d"
           }
          ],
          "scattercarpet": [
           {
            "marker": {
             "colorbar": {
              "outlinewidth": 0,
              "ticks": ""
             }
            },
            "type": "scattercarpet"
           }
          ],
          "scattergeo": [
           {
            "marker": {
             "colorbar": {
              "outlinewidth": 0,
              "ticks": ""
             }
            },
            "type": "scattergeo"
           }
          ],
          "scattergl": [
           {
            "marker": {
             "colorbar": {
              "outlinewidth": 0,
              "ticks": ""
             }
            },
            "type": "scattergl"
           }
          ],
          "scattermapbox": [
           {
            "marker": {
             "colorbar": {
              "outlinewidth": 0,
              "ticks": ""
             }
            },
            "type": "scattermapbox"
           }
          ],
          "scatterpolar": [
           {
            "marker": {
             "colorbar": {
              "outlinewidth": 0,
              "ticks": ""
             }
            },
            "type": "scatterpolar"
           }
          ],
          "scatterpolargl": [
           {
            "marker": {
             "colorbar": {
              "outlinewidth": 0,
              "ticks": ""
             }
            },
            "type": "scatterpolargl"
           }
          ],
          "scatterternary": [
           {
            "marker": {
             "colorbar": {
              "outlinewidth": 0,
              "ticks": ""
             }
            },
            "type": "scatterternary"
           }
          ],
          "surface": [
           {
            "colorbar": {
             "outlinewidth": 0,
             "ticks": ""
            },
            "colorscale": [
             [
              0,
              "#0d0887"
             ],
             [
              0.1111111111111111,
              "#46039f"
             ],
             [
              0.2222222222222222,
              "#7201a8"
             ],
             [
              0.3333333333333333,
              "#9c179e"
             ],
             [
              0.4444444444444444,
              "#bd3786"
             ],
             [
              0.5555555555555556,
              "#d8576b"
             ],
             [
              0.6666666666666666,
              "#ed7953"
             ],
             [
              0.7777777777777778,
              "#fb9f3a"
             ],
             [
              0.8888888888888888,
              "#fdca26"
             ],
             [
              1,
              "#f0f921"
             ]
            ],
            "type": "surface"
           }
          ],
          "table": [
           {
            "cells": {
             "fill": {
              "color": "#EBF0F8"
             },
             "line": {
              "color": "white"
             }
            },
            "header": {
             "fill": {
              "color": "#C8D4E3"
             },
             "line": {
              "color": "white"
             }
            },
            "type": "table"
           }
          ]
         },
         "layout": {
          "annotationdefaults": {
           "arrowcolor": "#2a3f5f",
           "arrowhead": 0,
           "arrowwidth": 1
          },
          "coloraxis": {
           "colorbar": {
            "outlinewidth": 0,
            "ticks": ""
           }
          },
          "colorscale": {
           "diverging": [
            [
             0,
             "#8e0152"
            ],
            [
             0.1,
             "#c51b7d"
            ],
            [
             0.2,
             "#de77ae"
            ],
            [
             0.3,
             "#f1b6da"
            ],
            [
             0.4,
             "#fde0ef"
            ],
            [
             0.5,
             "#f7f7f7"
            ],
            [
             0.6,
             "#e6f5d0"
            ],
            [
             0.7,
             "#b8e186"
            ],
            [
             0.8,
             "#7fbc41"
            ],
            [
             0.9,
             "#4d9221"
            ],
            [
             1,
             "#276419"
            ]
           ],
           "sequential": [
            [
             0,
             "#0d0887"
            ],
            [
             0.1111111111111111,
             "#46039f"
            ],
            [
             0.2222222222222222,
             "#7201a8"
            ],
            [
             0.3333333333333333,
             "#9c179e"
            ],
            [
             0.4444444444444444,
             "#bd3786"
            ],
            [
             0.5555555555555556,
             "#d8576b"
            ],
            [
             0.6666666666666666,
             "#ed7953"
            ],
            [
             0.7777777777777778,
             "#fb9f3a"
            ],
            [
             0.8888888888888888,
             "#fdca26"
            ],
            [
             1,
             "#f0f921"
            ]
           ],
           "sequentialminus": [
            [
             0,
             "#0d0887"
            ],
            [
             0.1111111111111111,
             "#46039f"
            ],
            [
             0.2222222222222222,
             "#7201a8"
            ],
            [
             0.3333333333333333,
             "#9c179e"
            ],
            [
             0.4444444444444444,
             "#bd3786"
            ],
            [
             0.5555555555555556,
             "#d8576b"
            ],
            [
             0.6666666666666666,
             "#ed7953"
            ],
            [
             0.7777777777777778,
             "#fb9f3a"
            ],
            [
             0.8888888888888888,
             "#fdca26"
            ],
            [
             1,
             "#f0f921"
            ]
           ]
          },
          "colorway": [
           "#636efa",
           "#EF553B",
           "#00cc96",
           "#ab63fa",
           "#FFA15A",
           "#19d3f3",
           "#FF6692",
           "#B6E880",
           "#FF97FF",
           "#FECB52"
          ],
          "font": {
           "color": "#2a3f5f"
          },
          "geo": {
           "bgcolor": "white",
           "lakecolor": "white",
           "landcolor": "#E5ECF6",
           "showlakes": true,
           "showland": true,
           "subunitcolor": "white"
          },
          "hoverlabel": {
           "align": "left"
          },
          "hovermode": "closest",
          "mapbox": {
           "style": "light"
          },
          "paper_bgcolor": "white",
          "plot_bgcolor": "#E5ECF6",
          "polar": {
           "angularaxis": {
            "gridcolor": "white",
            "linecolor": "white",
            "ticks": ""
           },
           "bgcolor": "#E5ECF6",
           "radialaxis": {
            "gridcolor": "white",
            "linecolor": "white",
            "ticks": ""
           }
          },
          "scene": {
           "xaxis": {
            "backgroundcolor": "#E5ECF6",
            "gridcolor": "white",
            "gridwidth": 2,
            "linecolor": "white",
            "showbackground": true,
            "ticks": "",
            "zerolinecolor": "white"
           },
           "yaxis": {
            "backgroundcolor": "#E5ECF6",
            "gridcolor": "white",
            "gridwidth": 2,
            "linecolor": "white",
            "showbackground": true,
            "ticks": "",
            "zerolinecolor": "white"
           },
           "zaxis": {
            "backgroundcolor": "#E5ECF6",
            "gridcolor": "white",
            "gridwidth": 2,
            "linecolor": "white",
            "showbackground": true,
            "ticks": "",
            "zerolinecolor": "white"
           }
          },
          "shapedefaults": {
           "line": {
            "color": "#2a3f5f"
           }
          },
          "ternary": {
           "aaxis": {
            "gridcolor": "white",
            "linecolor": "white",
            "ticks": ""
           },
           "baxis": {
            "gridcolor": "white",
            "linecolor": "white",
            "ticks": ""
           },
           "bgcolor": "#E5ECF6",
           "caxis": {
            "gridcolor": "white",
            "linecolor": "white",
            "ticks": ""
           }
          },
          "title": {
           "x": 0.05
          },
          "xaxis": {
           "automargin": true,
           "gridcolor": "white",
           "linecolor": "white",
           "ticks": "",
           "title": {
            "standoff": 15
           },
           "zerolinecolor": "white",
           "zerolinewidth": 2
          },
          "yaxis": {
           "automargin": true,
           "gridcolor": "white",
           "linecolor": "white",
           "ticks": "",
           "title": {
            "standoff": 15
           },
           "zerolinecolor": "white",
           "zerolinewidth": 2
          }
         }
        },
        "xaxis": {
         "anchor": "y",
         "domain": [
          0,
          1
         ],
         "title": {
          "text": "cut"
         }
        },
        "yaxis": {
         "anchor": "x",
         "domain": [
          0,
          1
         ],
         "title": {
          "text": "count"
         }
        }
       }
      },
      "text/html": [
       "<div>\n",
       "        \n",
       "        \n",
       "            <div id=\"18fae436-4838-4dcb-8ba8-d3ee08a94e71\" class=\"plotly-graph-div\" style=\"height:525px; width:100%;\"></div>\n",
       "            <script type=\"text/javascript\">\n",
       "                require([\"plotly\"], function(Plotly) {\n",
       "                    window.PLOTLYENV=window.PLOTLYENV || {};\n",
       "                    \n",
       "                if (document.getElementById(\"18fae436-4838-4dcb-8ba8-d3ee08a94e71\")) {\n",
       "                    Plotly.newPlot(\n",
       "                        '18fae436-4838-4dcb-8ba8-d3ee08a94e71',\n",
       "                        [{\"alignmentgroup\": \"True\", \"hovertemplate\": \"cut=%{x}<br>count=%{y}<extra></extra>\", \"legendgroup\": \"\", \"marker\": {\"color\": \"#636efa\"}, \"name\": \"\", \"offsetgroup\": \"\", \"orientation\": \"v\", \"showlegend\": false, \"textposition\": \"auto\", \"type\": \"bar\", \"x\": [\"90-180\", \"90-180\", \"30-90\", \"90-180\", \"30-90\", \"90-180\", \"90-180\", \"30-90\", \"90-180\", \"90-180\", \"90-180\", \"180-365\", \"180-365\", \"180-365\", \"30-90\", \"90-180\", \"90-180\", \"90-180\", \"30-90\", \"180-365\", \"30-90\", \"90-180\", \"90-180\", \"90-180\", \"30-90\", \"90-180\", \"90-180\", \"30-90\", \"30-90\", \"30-90\", \"90-180\", \"180-365\", \"30-90\", \"180-365\", \"30-90\", \"90-180\", \"90-180\", \"180-365\", \"30-90\", \"90-180\", \"90-180\", \"30-90\", \"180-365\", \"180-365\", \"90-180\", \"30-90\", \"90-180\", \"90-180\", \"90-180\", \"30-90\", \"30-90\", \"180-365\", \"90-180\", \"30-90\", \"30-90\", \"90-180\", \"90-180\", \"90-180\", \"30-90\", \"90-180\", \"30-90\", \"30-90\", \"90-180\", \"30-90\", \"30-90\", \"90-180\", \"90-180\", \"90-180\", \"30-90\", \"90-180\", \"180-365\", \"90-180\", \"180-365\", \"30-90\", \"90-180\", \"30-90\", \"30-90\", \"180-365\", \"90-180\", \"90-180\", \"90-180\", \"180-365\", \"30-90\", \"30-90\", \"90-180\", \"90-180\", \"180-365\", \"30-90\", \"90-180\", \"90-180\", \"90-180\", \"90-180\", \"90-180\", \"90-180\", \"90-180\", \"month\", \"90-180\", \"180-365\", \"180-365\", \"90-180\", \"30-90\", \"90-180\", \"30-90\", \"180-365\", \"90-180\", \"90-180\", \"90-180\", \"90-180\", \"90-180\", \"30-90\", \"30-90\", \"90-180\", \"180-365\", \"90-180\", \"30-90\", \"90-180\", \"180-365\", \"30-90\", \"90-180\", \"90-180\", \"30-90\", \"90-180\", \"30-90\", \"90-180\", \"30-90\", \"180-365\", \"180-365\", \"30-90\", \"180-365\", \"90-180\", \"90-180\", \"30-90\", \"180-365\", \"30-90\", \"90-180\", \"90-180\", \"90-180\", \"90-180\", \"30-90\", \"90-180\", \"180-365\", \"180-365\", \"30-90\", \"30-90\", \"90-180\", \"30-90\", \"90-180\", \"90-180\", \"90-180\", \"30-90\", \"30-90\", \"30-90\", \"30-90\", \"180-365\", \"90-180\", \"30-90\", \"90-180\", \"90-180\", \"90-180\", \"30-90\", \"30-90\", \"30-90\", \"90-180\", \"30-90\", \"month\", \"90-180\", \"90-180\", \"180-365\", \"30-90\", \"180-365\", \"30-90\", \"90-180\", \"90-180\", \"30-90\", \"30-90\", \"90-180\", \"90-180\", \"90-180\", \"180-365\", \"30-90\", \"30-90\", \"90-180\", \"180-365\", \"180-365\", \"90-180\", \"90-180\", \"30-90\", \"180-365\", \"180-365\", \"30-90\", \"180-365\", \"90-180\", \"90-180\", \"30-90\", \"180-365\", \"30-90\", \"month\", \"90-180\", \"90-180\", \"90-180\", \"90-180\", \"30-90\", \"180-365\", \"30-90\", \"30-90\", \"30-90\", \"30-90\", \"90-180\", \"30-90\", \"30-90\", \"30-90\", \"90-180\", \"90-180\", \"90-180\", \"90-180\", \"90-180\", \"30-90\", \"30-90\", \"90-180\", \"90-180\", \"180-365\", \"30-90\", \"90-180\", \"90-180\", \"90-180\", \"90-180\", \"90-180\", \"90-180\", \"90-180\", \"90-180\", \"90-180\", \"30-90\", \"180-365\", \"30-90\", \"90-180\", \"180-365\", \"180-365\", \"180-365\", \"180-365\", \"90-180\", \"30-90\", \"180-365\", \"180-365\", \"90-180\", \"30-90\", \"30-90\", \"90-180\", \"90-180\", \"90-180\", \"90-180\", \"90-180\", \"30-90\", \"30-90\", \"30-90\", \"180-365\", \"30-90\", \"90-180\", \"90-180\", \"90-180\", \"90-180\", \"90-180\", \"30-90\", \"90-180\", \"90-180\", \"90-180\", \"30-90\", \"30-90\", \"180-365\", \"90-180\", \"180-365\", \"30-90\", \"30-90\", \"180-365\", \"90-180\", \"30-90\", \"90-180\", \"30-90\", \"90-180\", \"90-180\", \"90-180\", \"90-180\", \"30-90\", \"90-180\", \"30-90\", \"90-180\", \"30-90\", \"90-180\", \"180-365\", \"90-180\", \"180-365\", \"30-90\", \"90-180\", \"90-180\", \"180-365\", \"90-180\", \"90-180\", \"90-180\", \"90-180\", \"90-180\", \"30-90\", \"180-365\", \"90-180\", \"90-180\", \"90-180\", \"90-180\", \"30-90\", \"180-365\", \"180-365\", \"180-365\", \"180-365\", \"180-365\", \"90-180\", \"30-90\", \"90-180\", \"90-180\", \"90-180\", \"30-90\", \"180-365\", \"30-90\", \"180-365\", \"90-180\", \"90-180\", \"30-90\", \"180-365\", \"90-180\", \"90-180\", \"30-90\", \"30-90\", \"90-180\", \"30-90\", \"90-180\", \"90-180\", \"90-180\", \"180-365\", \"30-90\", \"30-90\", \"90-180\", \"180-365\", \"180-365\", \"180-365\", \"180-365\", \"30-90\", \"180-365\", \"30-90\", \"90-180\", \"30-90\", \"90-180\", \"90-180\", \"90-180\", \"90-180\", \"180-365\", \"30-90\", \"30-90\", \"month\", \"90-180\", \"90-180\", \"90-180\", \"90-180\", \"90-180\", \"90-180\", \"180-365\", \"90-180\", \"180-365\", \"30-90\", \"90-180\", \"180-365\", \"30-90\", \"30-90\", \"30-90\", \"180-365\", \"90-180\", \"90-180\", \"90-180\", \"30-90\", \"180-365\", \"90-180\", \"90-180\", \"30-90\", \"180-365\", \"90-180\", \"30-90\", \"180-365\", \"180-365\", \"90-180\", \"180-365\", \"90-180\", \"90-180\", \"90-180\", \"90-180\", \"180-365\", \"180-365\", \"90-180\", \"30-90\", \"30-90\", \"30-90\", \"30-90\", \"180-365\", \"30-90\", \"180-365\", \"180-365\", \"month\", \"30-90\", \"180-365\", \"30-90\", \"90-180\", \"180-365\", \"180-365\", \"30-90\", \"90-180\", \"180-365\", \"180-365\", \"90-180\", \"90-180\", \"180-365\", \"90-180\", \"90-180\", \"180-365\", \"30-90\", \"180-365\", \"30-90\", \"180-365\", \"30-90\", \"90-180\", \"30-90\", \"90-180\", \"30-90\", \"180-365\", \"90-180\", \"30-90\", \"180-365\", \"90-180\", \"90-180\", \"90-180\", \"180-365\", \"90-180\", \"30-90\", \"30-90\", \"90-180\", \"30-90\", \"30-90\", \"90-180\", \"90-180\", \"30-90\", \"180-365\", \"30-90\", \"30-90\", \"30-90\", \"180-365\", \"90-180\", \"180-365\", \"180-365\", \"30-90\", \"30-90\", \"90-180\", \"180-365\", \"30-90\", \"180-365\", \"90-180\", \"180-365\", \"180-365\", \"30-90\", \"90-180\", \"90-180\", \"30-90\", \"90-180\", \"180-365\", \"30-90\", \"30-90\", \"30-90\", \"180-365\", \"90-180\", \"30-90\", \"180-365\", \"30-90\", \"90-180\", \"30-90\", \"30-90\", \"30-90\", \"180-365\", \"30-90\", \"180-365\", \"90-180\", \"90-180\", \"90-180\", \"90-180\", \"90-180\", \"180-365\", \"180-365\", \"90-180\", \"30-90\", \"90-180\", \"90-180\", \"30-90\", \"90-180\", \"90-180\", \"90-180\", \"90-180\", \"90-180\", \"90-180\", \"90-180\", \"180-365\", \"90-180\", \"90-180\", \"30-90\", \"30-90\", \"30-90\", \"90-180\", \"30-90\", \"180-365\", \"90-180\", \"30-90\", \"30-90\", \"180-365\", \"30-90\", \"90-180\", \"90-180\", \"90-180\", \"30-90\", \"180-365\", \"30-90\", \"month\", \"90-180\", \"90-180\", \"30-90\", \"180-365\", \"180-365\", \"90-180\", \"180-365\", \"30-90\", \"30-90\", \"30-90\", \"90-180\", \"180-365\", \"90-180\", \"90-180\", \"30-90\", \"90-180\", \"90-180\", \"30-90\", \"90-180\", \"180-365\", \"180-365\", \"180-365\", \"90-180\", \"180-365\", \"180-365\", \"90-180\", \"90-180\", \"30-90\", \"90-180\", \"30-90\", \"30-90\", \"90-180\", \"30-90\", \"90-180\", \"90-180\", \"180-365\", \"30-90\", \"30-90\", \"90-180\", \"90-180\", \"180-365\", \"90-180\", \"90-180\", \"30-90\", \"30-90\", \"180-365\", \"90-180\", \"90-180\", \"90-180\", \"90-180\", \"90-180\", \"90-180\", \"30-90\", \"180-365\", \"90-180\", \"90-180\", \"90-180\", \"30-90\", \"30-90\", \"90-180\", \"30-90\", \"90-180\", \"180-365\", \"90-180\", \"90-180\", \"180-365\", \"30-90\", \"30-90\", \"90-180\", \"90-180\", \"30-90\", \"90-180\", \"30-90\", \"30-90\", \"90-180\", \"30-90\", \"90-180\", \"90-180\", \"180-365\", \"180-365\", \"30-90\", \"90-180\", \"month\", \"180-365\", \"180-365\", \"90-180\", \"90-180\", \"30-90\", \"180-365\", \"90-180\", \"30-90\", \"90-180\", \"30-90\", \"90-180\", \"90-180\", \"180-365\", \"90-180\", \"30-90\", \"90-180\", \"30-90\", \"30-90\", \"30-90\", \"30-90\", \"30-90\", \"30-90\", \"30-90\", \"90-180\", \"90-180\", \"90-180\", \"90-180\", \"30-90\", \"30-90\", \"90-180\", \"90-180\", \"180-365\", \"90-180\", \"180-365\", \"90-180\", \"30-90\", \"90-180\", \"90-180\", \"90-180\", \"90-180\", \"90-180\", \"90-180\", \"30-90\", \"180-365\", \"90-180\", \"180-365\", \"180-365\", \"90-180\", \"180-365\", \"30-90\", \"90-180\", \"90-180\", \"90-180\", \"90-180\", \"30-90\", \"30-90\", \"90-180\", \"30-90\", \"90-180\", \"90-180\", \"90-180\", \"month\", \"90-180\", \"90-180\", \"90-180\", \"90-180\", \"90-180\", \"30-90\", \"180-365\", \"30-90\", \"30-90\", \"30-90\", \"90-180\", \"month\", \"90-180\", \"90-180\", \"30-90\", \"90-180\", \"30-90\", \"90-180\", \"30-90\", \"90-180\", \"30-90\", \"180-365\", \"30-90\", \"90-180\", \"30-90\", \"90-180\", \"30-90\", \"180-365\", \"90-180\", \"90-180\", \"30-90\", \"30-90\", \"30-90\", \"30-90\", \"90-180\", \"90-180\", \"90-180\", \"90-180\", \"30-90\", \"90-180\", \"180-365\", \"30-90\", \"30-90\", \"180-365\", \"90-180\", \"90-180\", \"180-365\", \"180-365\", \"90-180\", \"90-180\", \"90-180\", \"180-365\", \"30-90\", \"30-90\", \"90-180\", \"30-90\", \"30-90\", \"90-180\", \"180-365\", \"180-365\", \"90-180\", \"month\", \"90-180\", \"180-365\", \"180-365\", \"180-365\", \"180-365\", \"90-180\", \"180-365\", \"30-90\", \"90-180\", \"30-90\", \"180-365\", \"90-180\", \"90-180\", \"90-180\", \"30-90\", \"90-180\", \"30-90\", \"month\", \"180-365\", \"90-180\", \"90-180\", \"180-365\", \"90-180\", \"90-180\", \"30-90\", \"90-180\", \"180-365\", \"30-90\", \"90-180\", \"90-180\", \"30-90\", \"90-180\", \"30-90\", \"30-90\", \"180-365\", \"30-90\", \"180-365\", \"90-180\", \"30-90\", \"90-180\", \"90-180\", \"90-180\", \"30-90\", \"30-90\", \"90-180\", \"30-90\", \"180-365\", \"30-90\", \"90-180\", \"90-180\", \"90-180\", \"30-90\", \"30-90\", \"90-180\", \"90-180\", \"90-180\", \"90-180\", \"90-180\", \"90-180\", \"90-180\", \"90-180\", \"30-90\", \"30-90\", \"90-180\", \"90-180\", \"90-180\", \"90-180\", \"30-90\", \"90-180\", \"30-90\", \"30-90\", \"90-180\", \"180-365\", \"90-180\", \"180-365\", \"90-180\", \"90-180\", \"90-180\", \"90-180\", \"90-180\", \"90-180\", \"180-365\", \"90-180\", \"30-90\", \"90-180\", \"30-90\", \"90-180\", \"30-90\", \"90-180\", \"90-180\", \"30-90\", \"90-180\", \"90-180\", \"90-180\", \"90-180\", \"90-180\", \"90-180\", \"90-180\", \"90-180\", \"90-180\", \"180-365\", \"180-365\", \"180-365\", \"30-90\", \"30-90\", \"30-90\", \"90-180\", \"90-180\", \"90-180\", \"30-90\"], \"xaxis\": \"x\", \"y\": [1, 1, 1, 1, 1, 1, 1, 1, 1, 1, 1, 1, 1, 1, 1, 1, 1, 1, 1, 1, 1, 1, 1, 1, 1, 1, 1, 1, 1, 1, 1, 1, 1, 1, 1, 1, 1, 1, 1, 1, 1, 1, 1, 1, 1, 1, 1, 1, 1, 1, 1, 1, 1, 1, 1, 1, 1, 1, 1, 1, 1, 1, 1, 1, 1, 1, 1, 1, 1, 1, 1, 1, 1, 1, 1, 1, 1, 1, 1, 1, 1, 1, 1, 1, 1, 1, 1, 1, 1, 1, 1, 1, 1, 1, 1, 1, 1, 1, 1, 1, 1, 1, 1, 1, 1, 1, 1, 1, 1, 1, 1, 1, 1, 1, 1, 1, 1, 1, 1, 1, 1, 1, 1, 1, 1, 1, 1, 1, 1, 1, 1, 1, 1, 1, 1, 1, 1, 1, 1, 1, 1, 1, 1, 1, 1, 1, 1, 1, 1, 1, 1, 1, 1, 1, 1, 1, 1, 1, 1, 1, 1, 1, 1, 1, 1, 1, 1, 1, 1, 1, 1, 1, 1, 1, 1, 1, 1, 1, 1, 1, 1, 1, 1, 1, 1, 1, 1, 1, 1, 1, 1, 1, 1, 1, 1, 1, 1, 1, 1, 1, 1, 1, 1, 1, 1, 1, 1, 1, 1, 1, 1, 1, 1, 1, 1, 1, 1, 1, 1, 1, 1, 1, 1, 1, 1, 1, 1, 1, 1, 1, 1, 1, 1, 1, 1, 1, 1, 1, 1, 1, 1, 1, 1, 1, 1, 1, 1, 1, 1, 1, 1, 1, 1, 1, 1, 1, 1, 1, 1, 1, 1, 1, 1, 1, 1, 1, 1, 1, 1, 1, 1, 1, 1, 1, 1, 1, 1, 1, 1, 1, 1, 1, 1, 1, 1, 1, 1, 1, 1, 1, 1, 1, 1, 1, 1, 1, 1, 1, 1, 1, 1, 1, 1, 1, 1, 1, 1, 1, 1, 1, 1, 1, 1, 1, 1, 1, 1, 1, 1, 1, 1, 1, 1, 1, 1, 1, 1, 1, 1, 1, 1, 1, 1, 1, 1, 1, 1, 1, 1, 1, 1, 1, 1, 1, 1, 1, 1, 1, 1, 1, 1, 1, 1, 1, 1, 1, 1, 1, 1, 1, 1, 1, 1, 1, 1, 1, 1, 1, 1, 1, 1, 1, 1, 1, 1, 1, 1, 1, 1, 1, 1, 1, 1, 1, 1, 1, 1, 1, 1, 1, 1, 1, 1, 1, 1, 1, 1, 1, 1, 1, 1, 1, 1, 1, 1, 1, 1, 1, 1, 1, 1, 1, 1, 1, 1, 1, 1, 1, 1, 1, 1, 1, 1, 1, 1, 1, 1, 1, 1, 1, 1, 1, 1, 1, 1, 1, 1, 1, 1, 1, 1, 1, 1, 1, 1, 1, 1, 1, 1, 1, 1, 1, 1, 1, 1, 1, 1, 1, 1, 1, 1, 1, 1, 1, 1, 1, 1, 1, 1, 1, 1, 1, 1, 1, 1, 1, 1, 1, 1, 1, 1, 1, 1, 1, 1, 1, 1, 1, 1, 1, 1, 1, 1, 1, 1, 1, 1, 1, 1, 1, 1, 1, 1, 1, 1, 1, 1, 1, 1, 1, 1, 1, 1, 1, 1, 1, 1, 1, 1, 1, 1, 1, 1, 1, 1, 1, 1, 1, 1, 1, 1, 1, 1, 1, 1, 1, 1, 1, 1, 1, 1, 1, 1, 1, 1, 1, 1, 1, 1, 1, 1, 1, 1, 1, 1, 1, 1, 1, 1, 1, 1, 1, 1, 1, 1, 1, 1, 1, 1, 1, 1, 1, 1, 1, 1, 1, 1, 1, 1, 1, 1, 1, 1, 1, 1, 1, 1, 1, 1, 1, 1, 1, 1, 1, 1, 1, 1, 1, 1, 1, 1, 1, 1, 1, 1, 1, 1, 1, 1, 1, 1, 1, 1, 1, 1, 1, 1, 1, 1, 1, 1, 1, 1, 1, 1, 1, 1, 1, 1, 1, 1, 1, 1, 1, 1, 1, 1, 1, 1, 1, 1, 1, 1, 1, 1, 1, 1, 1, 1, 1, 1, 1, 1, 1, 1, 1, 1, 1, 1, 1, 1, 1, 1, 1, 1, 1, 1, 1, 1, 1, 1, 1, 1, 1, 1, 1, 1, 1, 1, 1, 1, 1, 1, 1, 1, 1, 1, 1, 1, 1, 1, 1, 1, 1, 1, 1, 1, 1, 1, 1, 1, 1, 1, 1, 1, 1, 1, 1, 1, 1, 1, 1, 1, 1, 1, 1, 1, 1, 1, 1, 1, 1, 1, 1, 1, 1, 1, 1, 1, 1, 1, 1, 1, 1, 1, 1, 1, 1, 1, 1, 1, 1, 1, 1, 1, 1, 1, 1, 1, 1, 1, 1, 1, 1, 1, 1, 1, 1, 1, 1, 1, 1, 1, 1, 1, 1, 1, 1, 1, 1, 1, 1, 1, 1, 1, 1, 1, 1, 1, 1, 1, 1, 1, 1, 1, 1, 1, 1, 1, 1, 1, 1, 1, 1, 1, 1, 1, 1, 1, 1, 1, 1, 1, 1, 1, 1, 1, 1, 1, 1, 1, 1, 1, 1, 1, 1, 1, 1, 1, 1, 1, 1, 1, 1, 1, 1, 1, 1, 1, 1, 1, 1, 1, 1, 1, 1, 1, 1], \"yaxis\": \"y\"}],\n",
       "                        {\"barmode\": \"relative\", \"legend\": {\"tracegroupgap\": 0}, \"margin\": {\"t\": 60}, \"template\": {\"data\": {\"bar\": [{\"error_x\": {\"color\": \"#2a3f5f\"}, \"error_y\": {\"color\": \"#2a3f5f\"}, \"marker\": {\"line\": {\"color\": \"#E5ECF6\", \"width\": 0.5}}, \"type\": \"bar\"}], \"barpolar\": [{\"marker\": {\"line\": {\"color\": \"#E5ECF6\", \"width\": 0.5}}, \"type\": \"barpolar\"}], \"carpet\": [{\"aaxis\": {\"endlinecolor\": \"#2a3f5f\", \"gridcolor\": \"white\", \"linecolor\": \"white\", \"minorgridcolor\": \"white\", \"startlinecolor\": \"#2a3f5f\"}, \"baxis\": {\"endlinecolor\": \"#2a3f5f\", \"gridcolor\": \"white\", \"linecolor\": \"white\", \"minorgridcolor\": \"white\", \"startlinecolor\": \"#2a3f5f\"}, \"type\": \"carpet\"}], \"choropleth\": [{\"colorbar\": {\"outlinewidth\": 0, \"ticks\": \"\"}, \"type\": \"choropleth\"}], \"contour\": [{\"colorbar\": {\"outlinewidth\": 0, \"ticks\": \"\"}, \"colorscale\": [[0.0, \"#0d0887\"], [0.1111111111111111, \"#46039f\"], [0.2222222222222222, \"#7201a8\"], [0.3333333333333333, \"#9c179e\"], [0.4444444444444444, \"#bd3786\"], [0.5555555555555556, \"#d8576b\"], [0.6666666666666666, \"#ed7953\"], [0.7777777777777778, \"#fb9f3a\"], [0.8888888888888888, \"#fdca26\"], [1.0, \"#f0f921\"]], \"type\": \"contour\"}], \"contourcarpet\": [{\"colorbar\": {\"outlinewidth\": 0, \"ticks\": \"\"}, \"type\": \"contourcarpet\"}], \"heatmap\": [{\"colorbar\": {\"outlinewidth\": 0, \"ticks\": \"\"}, \"colorscale\": [[0.0, \"#0d0887\"], [0.1111111111111111, \"#46039f\"], [0.2222222222222222, \"#7201a8\"], [0.3333333333333333, \"#9c179e\"], [0.4444444444444444, \"#bd3786\"], [0.5555555555555556, \"#d8576b\"], [0.6666666666666666, \"#ed7953\"], [0.7777777777777778, \"#fb9f3a\"], [0.8888888888888888, \"#fdca26\"], [1.0, \"#f0f921\"]], \"type\": \"heatmap\"}], \"heatmapgl\": [{\"colorbar\": {\"outlinewidth\": 0, \"ticks\": \"\"}, \"colorscale\": [[0.0, \"#0d0887\"], [0.1111111111111111, \"#46039f\"], [0.2222222222222222, \"#7201a8\"], [0.3333333333333333, \"#9c179e\"], [0.4444444444444444, \"#bd3786\"], [0.5555555555555556, \"#d8576b\"], [0.6666666666666666, \"#ed7953\"], [0.7777777777777778, \"#fb9f3a\"], [0.8888888888888888, \"#fdca26\"], [1.0, \"#f0f921\"]], \"type\": \"heatmapgl\"}], \"histogram\": [{\"marker\": {\"colorbar\": {\"outlinewidth\": 0, \"ticks\": \"\"}}, \"type\": \"histogram\"}], \"histogram2d\": [{\"colorbar\": {\"outlinewidth\": 0, \"ticks\": \"\"}, \"colorscale\": [[0.0, \"#0d0887\"], [0.1111111111111111, \"#46039f\"], [0.2222222222222222, \"#7201a8\"], [0.3333333333333333, \"#9c179e\"], [0.4444444444444444, \"#bd3786\"], [0.5555555555555556, \"#d8576b\"], [0.6666666666666666, \"#ed7953\"], [0.7777777777777778, \"#fb9f3a\"], [0.8888888888888888, \"#fdca26\"], [1.0, \"#f0f921\"]], \"type\": \"histogram2d\"}], \"histogram2dcontour\": [{\"colorbar\": {\"outlinewidth\": 0, \"ticks\": \"\"}, \"colorscale\": [[0.0, \"#0d0887\"], [0.1111111111111111, \"#46039f\"], [0.2222222222222222, \"#7201a8\"], [0.3333333333333333, \"#9c179e\"], [0.4444444444444444, \"#bd3786\"], [0.5555555555555556, \"#d8576b\"], [0.6666666666666666, \"#ed7953\"], [0.7777777777777778, \"#fb9f3a\"], [0.8888888888888888, \"#fdca26\"], [1.0, \"#f0f921\"]], \"type\": \"histogram2dcontour\"}], \"mesh3d\": [{\"colorbar\": {\"outlinewidth\": 0, \"ticks\": \"\"}, \"type\": \"mesh3d\"}], \"parcoords\": [{\"line\": {\"colorbar\": {\"outlinewidth\": 0, \"ticks\": \"\"}}, \"type\": \"parcoords\"}], \"pie\": [{\"automargin\": true, \"type\": \"pie\"}], \"scatter\": [{\"marker\": {\"colorbar\": {\"outlinewidth\": 0, \"ticks\": \"\"}}, \"type\": \"scatter\"}], \"scatter3d\": [{\"line\": {\"colorbar\": {\"outlinewidth\": 0, \"ticks\": \"\"}}, \"marker\": {\"colorbar\": {\"outlinewidth\": 0, \"ticks\": \"\"}}, \"type\": \"scatter3d\"}], \"scattercarpet\": [{\"marker\": {\"colorbar\": {\"outlinewidth\": 0, \"ticks\": \"\"}}, \"type\": \"scattercarpet\"}], \"scattergeo\": [{\"marker\": {\"colorbar\": {\"outlinewidth\": 0, \"ticks\": \"\"}}, \"type\": \"scattergeo\"}], \"scattergl\": [{\"marker\": {\"colorbar\": {\"outlinewidth\": 0, \"ticks\": \"\"}}, \"type\": \"scattergl\"}], \"scattermapbox\": [{\"marker\": {\"colorbar\": {\"outlinewidth\": 0, \"ticks\": \"\"}}, \"type\": \"scattermapbox\"}], \"scatterpolar\": [{\"marker\": {\"colorbar\": {\"outlinewidth\": 0, \"ticks\": \"\"}}, \"type\": \"scatterpolar\"}], \"scatterpolargl\": [{\"marker\": {\"colorbar\": {\"outlinewidth\": 0, \"ticks\": \"\"}}, \"type\": \"scatterpolargl\"}], \"scatterternary\": [{\"marker\": {\"colorbar\": {\"outlinewidth\": 0, \"ticks\": \"\"}}, \"type\": \"scatterternary\"}], \"surface\": [{\"colorbar\": {\"outlinewidth\": 0, \"ticks\": \"\"}, \"colorscale\": [[0.0, \"#0d0887\"], [0.1111111111111111, \"#46039f\"], [0.2222222222222222, \"#7201a8\"], [0.3333333333333333, \"#9c179e\"], [0.4444444444444444, \"#bd3786\"], [0.5555555555555556, \"#d8576b\"], [0.6666666666666666, \"#ed7953\"], [0.7777777777777778, \"#fb9f3a\"], [0.8888888888888888, \"#fdca26\"], [1.0, \"#f0f921\"]], \"type\": \"surface\"}], \"table\": [{\"cells\": {\"fill\": {\"color\": \"#EBF0F8\"}, \"line\": {\"color\": \"white\"}}, \"header\": {\"fill\": {\"color\": \"#C8D4E3\"}, \"line\": {\"color\": \"white\"}}, \"type\": \"table\"}]}, \"layout\": {\"annotationdefaults\": {\"arrowcolor\": \"#2a3f5f\", \"arrowhead\": 0, \"arrowwidth\": 1}, \"coloraxis\": {\"colorbar\": {\"outlinewidth\": 0, \"ticks\": \"\"}}, \"colorscale\": {\"diverging\": [[0, \"#8e0152\"], [0.1, \"#c51b7d\"], [0.2, \"#de77ae\"], [0.3, \"#f1b6da\"], [0.4, \"#fde0ef\"], [0.5, \"#f7f7f7\"], [0.6, \"#e6f5d0\"], [0.7, \"#b8e186\"], [0.8, \"#7fbc41\"], [0.9, \"#4d9221\"], [1, \"#276419\"]], \"sequential\": [[0.0, \"#0d0887\"], [0.1111111111111111, \"#46039f\"], [0.2222222222222222, \"#7201a8\"], [0.3333333333333333, \"#9c179e\"], [0.4444444444444444, \"#bd3786\"], [0.5555555555555556, \"#d8576b\"], [0.6666666666666666, \"#ed7953\"], [0.7777777777777778, \"#fb9f3a\"], [0.8888888888888888, \"#fdca26\"], [1.0, \"#f0f921\"]], \"sequentialminus\": [[0.0, \"#0d0887\"], [0.1111111111111111, \"#46039f\"], [0.2222222222222222, \"#7201a8\"], [0.3333333333333333, \"#9c179e\"], [0.4444444444444444, \"#bd3786\"], [0.5555555555555556, \"#d8576b\"], [0.6666666666666666, \"#ed7953\"], [0.7777777777777778, \"#fb9f3a\"], [0.8888888888888888, \"#fdca26\"], [1.0, \"#f0f921\"]]}, \"colorway\": [\"#636efa\", \"#EF553B\", \"#00cc96\", \"#ab63fa\", \"#FFA15A\", \"#19d3f3\", \"#FF6692\", \"#B6E880\", \"#FF97FF\", \"#FECB52\"], \"font\": {\"color\": \"#2a3f5f\"}, \"geo\": {\"bgcolor\": \"white\", \"lakecolor\": \"white\", \"landcolor\": \"#E5ECF6\", \"showlakes\": true, \"showland\": true, \"subunitcolor\": \"white\"}, \"hoverlabel\": {\"align\": \"left\"}, \"hovermode\": \"closest\", \"mapbox\": {\"style\": \"light\"}, \"paper_bgcolor\": \"white\", \"plot_bgcolor\": \"#E5ECF6\", \"polar\": {\"angularaxis\": {\"gridcolor\": \"white\", \"linecolor\": \"white\", \"ticks\": \"\"}, \"bgcolor\": \"#E5ECF6\", \"radialaxis\": {\"gridcolor\": \"white\", \"linecolor\": \"white\", \"ticks\": \"\"}}, \"scene\": {\"xaxis\": {\"backgroundcolor\": \"#E5ECF6\", \"gridcolor\": \"white\", \"gridwidth\": 2, \"linecolor\": \"white\", \"showbackground\": true, \"ticks\": \"\", \"zerolinecolor\": \"white\"}, \"yaxis\": {\"backgroundcolor\": \"#E5ECF6\", \"gridcolor\": \"white\", \"gridwidth\": 2, \"linecolor\": \"white\", \"showbackground\": true, \"ticks\": \"\", \"zerolinecolor\": \"white\"}, \"zaxis\": {\"backgroundcolor\": \"#E5ECF6\", \"gridcolor\": \"white\", \"gridwidth\": 2, \"linecolor\": \"white\", \"showbackground\": true, \"ticks\": \"\", \"zerolinecolor\": \"white\"}}, \"shapedefaults\": {\"line\": {\"color\": \"#2a3f5f\"}}, \"ternary\": {\"aaxis\": {\"gridcolor\": \"white\", \"linecolor\": \"white\", \"ticks\": \"\"}, \"baxis\": {\"gridcolor\": \"white\", \"linecolor\": \"white\", \"ticks\": \"\"}, \"bgcolor\": \"#E5ECF6\", \"caxis\": {\"gridcolor\": \"white\", \"linecolor\": \"white\", \"ticks\": \"\"}}, \"title\": {\"x\": 0.05}, \"xaxis\": {\"automargin\": true, \"gridcolor\": \"white\", \"linecolor\": \"white\", \"ticks\": \"\", \"title\": {\"standoff\": 15}, \"zerolinecolor\": \"white\", \"zerolinewidth\": 2}, \"yaxis\": {\"automargin\": true, \"gridcolor\": \"white\", \"linecolor\": \"white\", \"ticks\": \"\", \"title\": {\"standoff\": 15}, \"zerolinecolor\": \"white\", \"zerolinewidth\": 2}}}, \"xaxis\": {\"anchor\": \"y\", \"domain\": [0.0, 1.0], \"title\": {\"text\": \"cut\"}}, \"yaxis\": {\"anchor\": \"x\", \"domain\": [0.0, 1.0], \"title\": {\"text\": \"count\"}}},\n",
       "                        {\"responsive\": true}\n",
       "                    ).then(function(){\n",
       "                            \n",
       "var gd = document.getElementById('18fae436-4838-4dcb-8ba8-d3ee08a94e71');\n",
       "var x = new MutationObserver(function (mutations, observer) {{\n",
       "        var display = window.getComputedStyle(gd).display;\n",
       "        if (!display || display === 'none') {{\n",
       "            console.log([gd, 'removed!']);\n",
       "            Plotly.purge(gd);\n",
       "            observer.disconnect();\n",
       "        }}\n",
       "}});\n",
       "\n",
       "// Listen for the removal of the full notebook cells\n",
       "var notebookContainer = gd.closest('#notebook-container');\n",
       "if (notebookContainer) {{\n",
       "    x.observe(notebookContainer, {childList: true});\n",
       "}}\n",
       "\n",
       "// Listen for the clearing of the current output cell\n",
       "var outputEl = gd.closest('.output');\n",
       "if (outputEl) {{\n",
       "    x.observe(outputEl, {childList: true});\n",
       "}}\n",
       "\n",
       "                        })\n",
       "                };\n",
       "                });\n",
       "            </script>\n",
       "        </div>"
      ]
     },
     "metadata": {},
     "output_type": "display_data"
    }
   ],
   "source": [
    "fig = px.bar(df, x='cut')\n",
    "fig.show()\n"
   ]
  }
 ],
 "metadata": {
  "kernelspec": {
   "display_name": "Python 3",
   "language": "python",
   "name": "python3"
  },
  "language_info": {
   "codemirror_mode": {
    "name": "ipython",
    "version": 3
   },
   "file_extension": ".py",
   "mimetype": "text/x-python",
   "name": "python",
   "nbconvert_exporter": "python",
   "pygments_lexer": "ipython3",
   "version": "3.7.3"
  }
 },
 "nbformat": 4,
 "nbformat_minor": 4
}
